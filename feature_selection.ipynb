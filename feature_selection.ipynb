{
 "cells": [
  {
   "cell_type": "code",
   "execution_count": 1,
   "metadata": {},
   "outputs": [],
   "source": [
    "%load_ext autoreload\n",
    "\n",
    "%autoreload 2"
   ]
  },
  {
   "cell_type": "code",
   "execution_count": 2,
   "metadata": {},
   "outputs": [
    {
     "name": "stdout",
     "output_type": "stream",
     "text": [
      "Populating the interactive namespace from numpy and matplotlib\n"
     ]
    }
   ],
   "source": [
    "%pylab inline"
   ]
  },
  {
   "cell_type": "code",
   "execution_count": 9,
   "metadata": {},
   "outputs": [],
   "source": [
    "import numpy as np\n",
    "from mpl_toolkits.mplot3d import Axes3D\n",
    "import threading\n",
    "\n",
    "from ipywidgets import interact, interactive, fixed, interact_manual\n",
    "import ipywidgets as widgets\n",
    "from ipyparallel import Client \n",
    "\n",
    "from lib.oracles import LinearLMEOracle\n",
    "from lib.solvers import LinearLMESolver\n",
    "from lib.problems import LinearLMEProblem"
   ]
  },
  {
   "cell_type": "markdown",
   "metadata": {},
   "source": [
    "## LME Playground"
   ]
  },
  {
   "cell_type": "code",
   "execution_count": 51,
   "metadata": {},
   "outputs": [],
   "source": [
    "study_sizes_widget = widgets.Text(value='100, 50, 10', placeholder=\"100, 100, 100\", description='Study sizes:')\n",
    "test_widget = widgets.IntSlider(min=1, max=20, value=10, step=1, description=\"Test size\")\n",
    "random_seed_widget = widgets.IntSlider(min=1, max=1000, value=447, step=1, description=\"Random seed\")\n",
    "num_features_widget = widgets.IntSlider(min=2, max=10, value=6, step=1, description=\"Features\")\n",
    "num_random_features_widget = widgets.IntSlider(min=1, max=6, value=2, step=1, description=\"Random effects\")\n",
    "obs_std_widget = widgets.FloatLogSlider(min=-5, max=0, value=0.02, step=0.2)\n",
    "features_widget = widgets.HBox([num_features_widget, num_random_features_widget])\n",
    "rest_widget = widgets.HBox([obs_std_widget, random_seed_widget])\n",
    "\n",
    "mode_widget = widgets.ToggleButtons(options=['naive', 'fast'], \n",
    "                                         value='fast',\n",
    "                                         description='Mode:')\n",
    "method_widget = widgets.ToggleButtons(options=['GradDescent', 'NewtonRaphson', 'EM'], \n",
    "                                         value='NewtonRaphson',\n",
    "                                         description='Method:')\n",
    "bootstrap_widget = widgets.ToggleButtons(options=['None', 'Parametric', 'Nonparametric', 'Analytic'], \n",
    "                                         value='None',\n",
    "                                         description='Bootstrap:')\n",
    "bootstrap_capacity_widget = widgets.IntSlider(min=10, max=1000, value=100, step=10, description=\"Bootstrap samples\")\n",
    "launch_log = []\n",
    "\n",
    "def visualize_sample_problem(study_sizes=\"100, 100, 100\",\n",
    "                 test_size=5,\n",
    "                 num_features=6, \n",
    "                 num_random_effects=3, \n",
    "                 obs_std=0.1, \n",
    "                 bootstrap='Nonparametric',\n",
    "                 bootstrap_capacity=100,\n",
    "                 mode='fast',\n",
    "                 method='NewtonRaphson',\n",
    "                 random_seed=42):\n",
    "    figsize=(16, 16)\n",
    "    if study_sizes == \"\":\n",
    "        study_sizes = [study1, study2, study3]\n",
    "    else:\n",
    "        study_sizes = [int(s) for s in study_sizes.split(\", \")]\n",
    "    test_study_sizes = [test_size]*len(study_sizes)\n",
    "    train, beta, gamma, random_effects, errs = LinearLMEProblem.generate(study_sizes=study_sizes,\n",
    "                                                                         num_features=num_features,\n",
    "                                                                         num_random_effects=num_random_effects,\n",
    "                                                                         obs_std=obs_std,\n",
    "                                                                         seed=random_seed)\n",
    "    test = LinearLMEProblem.generate(study_sizes=test_study_sizes, beta=beta, gamma=gamma,\n",
    "                                     true_random_effects=random_effects,\n",
    "                                     seed=random_seed + 1, return_true_parameters=False)\n",
    "    true_parameters = {\n",
    "        \"beta\": beta,\n",
    "        \"gamma\": gamma,\n",
    "        \"random_effects\": random_effects,\n",
    "        \"errs\": errs,\n",
    "        \"train\": train,\n",
    "        \"test\": test,\n",
    "        \"seed\": random_seed\n",
    "    }\n",
    "    \n",
    "    color_map = [\"red\", \"green\", \"blue\", \"yellow\", \"black\", \"cyan\", \"purple\", \"orange\"]\n",
    "    \n",
    "    train_oracle = LinearLMEOracle(train)\n",
    "    test_oracle = LinearLMEOracle(test)\n",
    "    model = LinearLMESolver(tol=1e-8, max_iter=1000)\n",
    "    logger = model.fit(train_oracle, test_oracle,\n",
    "                       beta0 = np.ones(num_features), gamma0 = np.zeros(num_random_effects),\n",
    "                       method = method)\n",
    "    \n",
    "    if not logger[\"converged\"]:\n",
    "        print(\"The main solver has not converged\")\n",
    "        return None\n",
    "\n",
    "    fig = plt.figure(figsize=figsize)\n",
    "    grid = plt.GridSpec(4, 4, wspace=0.3, hspace=0.3)\n",
    "    prediction_plot = fig.add_subplot(grid[:2, :2])\n",
    "\n",
    "    model_parameters_plot = fig.add_subplot(grid[0, 2])\n",
    "    pred_beta = model.beta\n",
    "    model_parameters_plot.scatter(true_parameters['beta'], pred_beta)\n",
    "    model_parameters_plot.set_xlabel(\"True parameters\")\n",
    "    model_parameters_plot.set_ylabel(\"Inferred parameters\")\n",
    "    model_parameters_low_lim = min(min(pred_beta), min(true_parameters['beta'])) - 0.1\n",
    "    model_parameters_high_lim = max(max(pred_beta), max(true_parameters['beta'])) + 0.1\n",
    "    model_parameters_plot.set_xlim(model_parameters_low_lim, model_parameters_high_lim)\n",
    "    model_parameters_plot.set_ylim(model_parameters_low_lim, model_parameters_high_lim)\n",
    "    model_parameters_plot.plot(model_parameters_plot.get_xlim(), model_parameters_plot.get_ylim(), ls='--', c=\".3\")\n",
    "    \n",
    "    random_effects_plot = fig.add_subplot(grid[1, 2])\n",
    "    random_effects_low_lim = 0\n",
    "    random_effects_high_lim = 0\n",
    "    for i, (u_pred, u_true) in enumerate(zip(model.us, true_parameters['random_effects'])):\n",
    "        random_effects_plot.scatter(u_true, u_pred, label=\"Study %d\" % (i + 1), c=color_map[i])\n",
    "        random_effects_low_lim = min(min(u_true), min(u_pred), random_effects_low_lim)\n",
    "        random_effects_high_lim = max(max(u_true), max(u_pred), random_effects_high_lim)\n",
    "    random_effects_plot.legend()\n",
    "    random_effects_low_lim -= 0.1\n",
    "    random_effects_high_lim += 0.1\n",
    "    random_effects_plot.set_xlim(random_effects_low_lim, random_effects_high_lim)\n",
    "    random_effects_plot.set_ylim(random_effects_low_lim, random_effects_high_lim)\n",
    "    random_effects_plot.plot(random_effects_plot.get_xlim(), random_effects_plot.get_ylim(), ls='--', c=\".3\")\n",
    "    random_effects_plot.set_xlabel(\"True random effects\")\n",
    "    random_effects_plot.set_ylabel(\"Inferred random effects\")\n",
    "\n",
    "    gamma_plot = fig.add_subplot(grid[0, 3])\n",
    "    gamma_plot.scatter(true_parameters['gamma'], model.gamma, label=\"Inferred\")\n",
    "    gamma_low_lim = min(min(true_parameters['gamma']), min(model.gamma)) - 0.2\n",
    "    gamma_high_lim = max(max(true_parameters['gamma']), max(model.gamma)) + 0.2\n",
    "    gamma_plot.set_xlim(gamma_low_lim, gamma_high_lim)\n",
    "    gamma_plot.set_ylim(gamma_low_lim, gamma_high_lim)\n",
    "    gamma_plot.plot(gamma_plot.get_xlim(), gamma_plot.get_ylim(), ls='--', c=\".3\")\n",
    "    gamma_plot.set_xlabel(\"True gamma\")\n",
    "    gamma_plot.set_ylabel(\"Inferred gamma\")\n",
    "\n",
    "    abs_min = np.inf\n",
    "    if num_random_effects == 2:\n",
    "        trajectory_plot = fig.add_subplot(grid[2:4, 0:2])\n",
    "    \n",
    "        xlims = [0, 2] #ax.get_xlim()\n",
    "        ylims = [0, 2] #ax.get_ylim()\n",
    "\n",
    "        plot_resolution = 100\n",
    "        x = np.linspace(0, xlims[1], plot_resolution)\n",
    "        y = np.linspace(0, ylims[1], plot_resolution)\n",
    "        z = np.zeros((plot_resolution, plot_resolution))\n",
    "        zh = np.zeros((plot_resolution, plot_resolution))\n",
    "        def psd(hessian):\n",
    "            eigvals = np.linalg.eigvals(hessian)\n",
    "            if np.linalg.norm(np.imag(eigvals)) > 1e-15:\n",
    "                return -1\n",
    "            min_eigval = min(np.real(eigvals))\n",
    "            if min_eigval < 0:\n",
    "                return -1\n",
    "            else:\n",
    "                return min_eigval\n",
    "        for i, g2 in enumerate(y):\n",
    "            for j, g1 in enumerate(x):\n",
    "                gamma0 = np.array([g1, g2])\n",
    "                beta0 = train_oracle.optimal_beta(gamma0)\n",
    "                z[i, j] = train_oracle.loss(beta0, gamma0)\n",
    "                hessian = train_oracle.hessian_gamma(beta0, gamma0)\n",
    "                zh[i, j] = psd(hessian)\n",
    "\n",
    "        abs_min = min(min(logger[\"loss\"]), np.min(z)) - 1e-8\n",
    "\n",
    "        csh = trajectory_plot.contourf(x, y, zh, levels=[0, 1e13], colors=\"lightgreen\")\n",
    "\n",
    "        levels = np.min(z) + np.array([1e-2, 1e-1, 1e0, 1e1, 1e2])\n",
    "        levels_labels = [\"1e-2\", \"1e-1\", \"1e0\", \"1e1\", \"1e2\"]\n",
    "        levels_dict = {levels[i]: levels_labels[i] for i in range(len(levels_labels))}\n",
    "\n",
    "        cs = trajectory_plot.contour(x, y, z, levels=levels)\n",
    "        plt.clabel(cs, fontsize=8, fmt=levels_dict)\n",
    "\n",
    "\n",
    "        gamma_trace = np.array(logger[\"gamma\"]).T\n",
    "        trajectory_plot.plot(gamma_trace[0], gamma_trace[1], '-ob', label = method)\n",
    "\n",
    "        trajectory_plot.set_xlim(xlims)\n",
    "        trajectory_plot.set_ylim(ylims)\n",
    "        trajectory_plot.set_xlabel(r\"$\\gamma_1$, variation of the first random effect\")\n",
    "        trajectory_plot.set_ylabel(r\"$\\gamma_2$, variation of the second random effect\")\n",
    "        \n",
    "        gamma_hessian_pd_plot = fig.add_subplot(grid[2:4, 2:4])\n",
    "\n",
    "    loss_plot = fig.add_subplot(grid[1, 3])\n",
    "    min_loss = min(np.min(logger[\"loss\"]), abs_min)\n",
    "    loss_plot.semilogy(range(len(logger[\"loss\"])), logger[\"loss\"] - min_loss + 1e-8, '-ob', label=method)\n",
    "    loss_plot.set_ylim((1e-8, 1e3))\n",
    "    plt.show()\n",
    "    \n",
    "    launch_log.append(true_parameters)"
   ]
  },
  {
   "cell_type": "code",
   "execution_count": 52,
   "metadata": {
    "scrolled": false
   },
   "outputs": [
    {
     "data": {
      "application/vnd.jupyter.widget-view+json": {
       "model_id": "a2b9fdaa943b4091a8a0de32fd8192cc",
       "version_major": 2,
       "version_minor": 0
      },
      "text/plain": [
       "interactive(children=(Text(value='100, 50, 10', description='Study sizes:', placeholder='100, 100, 100'), IntS…"
      ]
     },
     "metadata": {},
     "output_type": "display_data"
    },
    {
     "data": {
      "text/plain": [
       "<function __main__.visualize_sample_problem(study_sizes='100, 100, 100', test_size=5, num_features=6, num_random_effects=3, obs_std=0.1, bootstrap='Nonparametric', bootstrap_capacity=100, mode='fast', method='NewtonRaphson', random_seed=42)>"
      ]
     },
     "execution_count": 52,
     "metadata": {},
     "output_type": "execute_result"
    }
   ],
   "source": [
    "interact_manual(visualize_sample_problem, \n",
    "                study_sizes = study_sizes_widget,\n",
    "                test_size = test_widget,\n",
    "                num_features = num_features_widget,\n",
    "                num_random_effects = num_random_features_widget,\n",
    "                obs_std = obs_std_widget,\n",
    "                bootstrap = bootstrap_widget,\n",
    "                bootstrap_capacity = bootstrap_capacity_widget,\n",
    "                mode = mode_widget, \n",
    "                method = method_widget,\n",
    "                random_seed = random_seed_widget)"
   ]
  },
  {
   "cell_type": "markdown",
   "metadata": {},
   "source": [
    "460, 199! change to abs loss!"
   ]
  },
  {
   "cell_type": "code",
   "execution_count": null,
   "metadata": {},
   "outputs": [],
   "source": []
  }
 ],
 "metadata": {
  "kernelspec": {
   "display_name": "Python 3",
   "language": "python",
   "name": "python3"
  },
  "language_info": {
   "codemirror_mode": {
    "name": "ipython",
    "version": 3
   },
   "file_extension": ".py",
   "mimetype": "text/x-python",
   "name": "python",
   "nbconvert_exporter": "python",
   "pygments_lexer": "ipython3",
   "version": "3.7.5"
  }
 },
 "nbformat": 4,
 "nbformat_minor": 2
}
