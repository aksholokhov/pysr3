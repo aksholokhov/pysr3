{
 "cells": [
  {
   "cell_type": "code",
   "execution_count": 1,
   "metadata": {},
   "outputs": [],
   "source": [
    "%load_ext autoreload\n",
    "\n",
    "%autoreload 2"
   ]
  },
  {
   "cell_type": "code",
   "execution_count": 2,
   "metadata": {},
   "outputs": [
    {
     "name": "stdout",
     "output_type": "stream",
     "text": [
      "Populating the interactive namespace from numpy and matplotlib\n"
     ]
    }
   ],
   "source": [
    "%pylab inline"
   ]
  },
  {
   "cell_type": "code",
   "execution_count": 3,
   "metadata": {},
   "outputs": [],
   "source": [
    "import numpy as np\n",
    "from mpl_toolkits.mplot3d import Axes3D\n",
    "import threading\n",
    "\n",
    "from ipywidgets import interact, interactive, fixed, interact_manual\n",
    "import ipywidgets as widgets\n",
    "from ipyparallel import Client \n",
    "\n",
    "from lib.solvers import LinearLMESolver\n",
    "from lib.problems import LinearLMEProblem\n",
    "from lib.visualizers import LMEModelVisualizer\n",
    "from lib.bootstrappers import NonParLinearLMEBootstrapper"
   ]
  },
  {
   "cell_type": "markdown",
   "metadata": {},
   "source": [
    "## LME Playground"
   ]
  },
  {
   "cell_type": "code",
   "execution_count": 4,
   "metadata": {},
   "outputs": [],
   "source": [
    "study_sizes_widget = widgets.Text(value='100, 50, 10', placeholder=\"100, 100, 100\", description='Study sizes:')\n",
    "test_widget = widgets.IntSlider(min=1, max=20, value=10, step=1, description=\"Test size\")\n",
    "random_seed_widget = widgets.IntSlider(min=1, max=1000, value=498, step=1, description=\"Random seed\")\n",
    "num_features_widget = widgets.IntSlider(min=2, max=10, value=8, step=1, description=\"Features\")\n",
    "num_random_features_widget = widgets.IntSlider(min=1, max=6, value=2, step=1, description=\"Random effects\")\n",
    "obs_std_widget = widgets.FloatLogSlider(min=-5, max=0, value=0.1, step=0.2)\n",
    "features_widget = widgets.HBox([num_features_widget, num_random_features_widget])\n",
    "rest_widget = widgets.HBox([obs_std_widget, random_seed_widget])\n",
    "\n",
    "mode_widget = widgets.ToggleButtons(options=['naive', 'fast'], \n",
    "                                         value='fast',\n",
    "                                         description='Mode:')\n",
    "method_widget = widgets.ToggleButtons(options=['gd', 'agd', 'nr', 'em'], \n",
    "                                         value='nr',\n",
    "                                         description='Method:')\n",
    "bootstrap_widget = widgets.ToggleButtons(options=['None', 'Parametric', 'Nonparametric', 'Analytic'], \n",
    "                                         value='None',\n",
    "                                         description='Bootstrap:')\n",
    "bootstrap_capacity_widget = widgets.IntSlider(min=10, max=1000, value=100, step=10, description=\"Bootstrap samples\")\n",
    "launch_log = []\n",
    "\n",
    "def visualize_sample_problem(study_sizes=\"100, 100, 100\",\n",
    "                 test_size=5,\n",
    "                 num_features=6, \n",
    "                 num_random_effects=3, \n",
    "                 obs_std=0.1, \n",
    "                 bootstrap='Nonparametric',\n",
    "                 bootstrap_capacity=100,\n",
    "                 mode='fast',\n",
    "                 method='gd',\n",
    "                 random_seed=42):\n",
    "    figsize=(16, 16)\n",
    "    if study_sizes == \"\":\n",
    "        study_sizes = [study1, study2, study3]\n",
    "    else:\n",
    "        study_sizes = [int(s) for s in study_sizes.split(\", \")]\n",
    "    test_study_sizes = [test_size]*len(study_sizes)\n",
    "    train, beta, gamma, random_effects, errs = LinearLMEProblem.generate(study_sizes=study_sizes,\n",
    "                                                                         num_features=num_features,\n",
    "                                                                         num_random_effects=num_random_effects,\n",
    "                                                                         obs_std=obs_std,\n",
    "                                                                         seed=random_seed)\n",
    "    test = LinearLMEProblem.generate(study_sizes=test_study_sizes, beta=beta, gamma=gamma,\n",
    "                                     true_random_effects=random_effects,\n",
    "                                     seed=random_seed + 1, return_true_parameters=False)\n",
    "    true_parameters = {\n",
    "        \"beta\": beta,\n",
    "        \"gamma\": gamma,\n",
    "        \"random_effects\": random_effects,\n",
    "        \"errs\": errs,\n",
    "        \"train\": train,\n",
    "        \"test\": test,\n",
    "        \"seed\": random_seed\n",
    "    }\n",
    "\n",
    "    model = LinearLMESolver(mode=mode, method=method, tol=1e-8, max_iter=1000)\n",
    "    if bootstrap == 'Nonparametric':\n",
    "        bootstrapper = NonParLinearLMEBootstrapper(train, max_capacity=bootstrap_capacity, seed=random_seed)\n",
    "    elif bootstrap == 'Parametric': \n",
    "        raise Excetion(\"Not implemented\")\n",
    "    elif bootstrap == 'Analytic':\n",
    "        raise Excetion(\"Not implemented\")\n",
    "    else:\n",
    "        bootstrapper=None\n",
    "    \n",
    "    progressbar=None\n",
    "    if bootstrap != \"None\":\n",
    "        progressbar = widgets.FloatProgress(value=0.0, min=0.0, max=1.0)\n",
    "        progressbar.value=0\n",
    "        display(progressbar)\n",
    "        \n",
    "    visualizer = LMEModelVisualizer()\n",
    "    converged = visualizer.fit(model, train, test, true_parameters, bootstrapper, progressbar)\n",
    "    \n",
    "    if not converged:\n",
    "        print(\"The main solver has not converged\")\n",
    "        return None\n",
    "\n",
    "    fig = plt.figure(figsize=figsize)\n",
    "    grid = plt.GridSpec(4, 4, wspace=0.3, hspace=0.3)\n",
    "    prediction_plot = fig.add_subplot(grid[:2, :2])\n",
    "    visualizer.plot_test_predictions(prediction_plot, with_confidences=False if bootstrapper is None else True)\n",
    "    model_parameters_plot = fig.add_subplot(grid[0, 2])\n",
    "    visualizer.plot_parameters(model_parameters_plot, with_confidences=False if bootstrapper is None else True)\n",
    "    random_effects_plot = fig.add_subplot(grid[1, 2])\n",
    "    visualizer.plot_random_effects(random_effects_plot, with_confidences=False if bootstrapper is None else True)\n",
    "    gamma_plot = fig.add_subplot(grid[0, 3])\n",
    "    visualizer.plot_gammas(gamma_plot, with_confidences=False if bootstrapper is None else True)  \n",
    "    if num_random_effects == 2:\n",
    "        gamma_trajectory_plot = fig.add_subplot(grid[2:4, 0:2])\n",
    "        visualizer.plot_gamma_trace(gamma_trajectory_plot)\n",
    "        #visualizer.plot_hessian(gamma_trajectory_plot, sufficient_criterion=True)\n",
    "        gamma_hessian_pd_plot = fig.add_subplot(grid[2:4, 2:4])\n",
    "        visualizer.plot_hessian(gamma_hessian_pd_plot)\n",
    "    loss_plot = fig.add_subplot(grid[1, 3])\n",
    "    visualizer.plot_loss(loss_plot)\n",
    "    plt.show()\n",
    "    \n",
    "    hess_psd = []\n",
    "    \n",
    "    gamma_end = visualizer.logger[\"gamma\"][-1]\n",
    "    for alpha in linspace(0.1, 1, 20):\n",
    "        beta0 = visualizer.model.optimal_beta(alpha*gamma_end)\n",
    "        hessian = visualizer.model.hessian_gamma(beta0, alpha*gamma_end)\n",
    "        eigvals = np.linalg.eigvals(hessian)\n",
    "        conv_par = -1\n",
    "        if np.linalg.norm(np.imag(eigvals)) > 1e-15:\n",
    "            conv_par = -1\n",
    "        min_eigval = min(np.real(eigvals))\n",
    "        conv_par = min_eigval\n",
    "        hess_psd.append(conv_par)\n",
    "        \n",
    "    print(hess_psd)\n",
    "    \n",
    "    launch_log.append(true_parameters)"
   ]
  },
  {
   "cell_type": "code",
   "execution_count": 5,
   "metadata": {
    "scrolled": false
   },
   "outputs": [
    {
     "data": {
      "application/vnd.jupyter.widget-view+json": {
       "model_id": "11fc4093f1694f0fb4642144442b228c",
       "version_major": 2,
       "version_minor": 0
      },
      "text/plain": [
       "interactive(children=(Text(value='100, 50, 10', description='Study sizes:', placeholder='100, 100, 100'), IntS…"
      ]
     },
     "metadata": {},
     "output_type": "display_data"
    },
    {
     "data": {
      "text/plain": [
       "<function __main__.visualize_sample_problem(study_sizes='100, 100, 100', test_size=5, num_features=6, num_random_effects=3, obs_std=0.1, bootstrap='Nonparametric', bootstrap_capacity=100, mode='fast', method='gd', random_seed=42)>"
      ]
     },
     "execution_count": 5,
     "metadata": {},
     "output_type": "execute_result"
    }
   ],
   "source": [
    "interact_manual(visualize_sample_problem, \n",
    "                study_sizes = study_sizes_widget,\n",
    "                test_size = test_widget,\n",
    "                num_features = num_features_widget,\n",
    "                num_random_effects = num_random_features_widget,\n",
    "                obs_std = obs_std_widget,\n",
    "                bootstrap = bootstrap_widget,\n",
    "                bootstrap_capacity = bootstrap_capacity_widget,\n",
    "                mode = mode_widget, \n",
    "                method = method_widget,\n",
    "                random_seed = random_seed_widget)"
   ]
  },
  {
   "cell_type": "markdown",
   "metadata": {},
   "source": [
    "460, 199! change to abs loss!"
   ]
  },
  {
   "cell_type": "markdown",
   "metadata": {},
   "source": [
    "## Figures for grant proposal"
   ]
  },
  {
   "cell_type": "code",
   "execution_count": 6,
   "metadata": {},
   "outputs": [],
   "source": [
    "study_sizes_widget = widgets.Text(value='100, 50, 10', placeholder=\"100, 100, 100\", description='Study sizes:')\n",
    "test_widget = widgets.IntSlider(min=1, max=20, value=10, step=1, description=\"Test size\")\n",
    "random_seed_widget = widgets.IntSlider(min=1, max=1000, value=498, step=1, description=\"Random seed\")\n",
    "num_features_widget = widgets.IntSlider(min=2, max=10, value=8, step=1, description=\"Features\")\n",
    "num_random_features_widget = widgets.IntSlider(min=1, max=6, value=2, step=1, description=\"Random effects\")\n",
    "obs_std_widget = widgets.FloatLogSlider(min=-5, max=0, value=0.1, step=0.2)\n",
    "features_widget = widgets.HBox([num_features_widget, num_random_features_widget])\n",
    "rest_widget = widgets.HBox([obs_std_widget, random_seed_widget])\n",
    "\n",
    "mode_widget = widgets.ToggleButtons(options=['naive', 'fast'], \n",
    "                                         value='fast',\n",
    "                                         description='Mode:')\n",
    "method_widget = widgets.ToggleButtons(options=['gd', 'agd', 'nr', 'em'], \n",
    "                                         value='nr',\n",
    "                                         description='Method:')\n",
    "bootstrap_widget = widgets.ToggleButtons(options=['None', 'Parametric', 'Nonparametric', 'Analytic'], \n",
    "                                         value='None',\n",
    "                                         description='Bootstrap:')\n",
    "bootstrap_capacity_widget = widgets.IntSlider(min=10, max=1000, value=100, step=10, description=\"Bootstrap samples\")\n",
    "launch_log = []\n",
    "\n",
    "def visualize_sample_problem(study_sizes=\"100, 100, 100\",\n",
    "                 test_size=5,\n",
    "                 num_features=6, \n",
    "                 num_random_effects=3, \n",
    "                 obs_std=0.1, \n",
    "                 bootstrap='Nonparametric',\n",
    "                 bootstrap_capacity=100,\n",
    "                 mode='fast',\n",
    "                 method='gd',\n",
    "                 random_seed=42):\n",
    "    figsize=(8, 16)\n",
    "    if study_sizes == \"\":\n",
    "        study_sizes = [study1, study2, study3]\n",
    "    else:\n",
    "        study_sizes = [int(s) for s in study_sizes.split(\", \")]\n",
    "    test_study_sizes = [test_size]*len(study_sizes)\n",
    "    train, beta, gamma, random_effects, errs = LinearLMEProblem.generate(study_sizes=study_sizes,\n",
    "                                                                         num_features=num_features,\n",
    "                                                                         num_random_effects=num_random_effects,\n",
    "                                                                         obs_std=obs_std,\n",
    "                                                                         seed=random_seed)\n",
    "    test = LinearLMEProblem.generate(study_sizes=test_study_sizes, beta=beta, gamma=gamma,\n",
    "                                     true_random_effects=random_effects,\n",
    "                                     seed=random_seed + 1, return_true_parameters=False)\n",
    "    true_parameters = {\n",
    "        \"beta\": beta,\n",
    "        \"gamma\": gamma,\n",
    "        \"random_effects\": random_effects,\n",
    "        \"errs\": errs,\n",
    "        \"train\": train,\n",
    "        \"test\": test,\n",
    "        \"seed\": random_seed\n",
    "    }\n",
    "\n",
    "    model = LinearLMESolver(mode=mode, method=method, tol=1e-4, max_iter=1000)\n",
    "    if bootstrap == 'Nonparametric':\n",
    "        bootstrapper = NonParLinearLMEBootstrapper(train, max_capacity=bootstrap_capacity, seed=random_seed)\n",
    "    elif bootstrap == 'Parametric': \n",
    "        raise Excetion(\"Not implemented\")\n",
    "    elif bootstrap == 'Analytic':\n",
    "        raise Excetion(\"Not implemented\")\n",
    "    else:\n",
    "        bootstrapper=None\n",
    "    \n",
    "    progressbar=None\n",
    "    if bootstrap != \"None\":\n",
    "        progressbar = widgets.FloatProgress(value=0.0, min=0.0, max=1.0)\n",
    "        progressbar.value=0\n",
    "        display(progressbar)\n",
    "        \n",
    "    visualizer = LMEModelVisualizer()\n",
    "    converged = visualizer.fit(model, train, test, true_parameters, bootstrapper, progressbar)\n",
    "    \n",
    "    if not converged:\n",
    "        print(\"The main solver has not converged\")\n",
    "        return None\n",
    "\n",
    "    fig = plt.figure(figsize=figsize)\n",
    "    grid = plt.GridSpec(1, 2, wspace=0.1, hspace=0.1)\n",
    "    trajectory_plot = fig.add_subplot(grid[:, 1])\n",
    "    visualizer.plot_gamma_trace(trajectory_plot)\n",
    "    plt.show()\n",
    "        \n",
    "    launch_log.append(true_parameters)"
   ]
  },
  {
   "cell_type": "code",
   "execution_count": 7,
   "metadata": {},
   "outputs": [
    {
     "data": {
      "application/vnd.jupyter.widget-view+json": {
       "model_id": "a0582491745640cfa70338b9da4f8431",
       "version_major": 2,
       "version_minor": 0
      },
      "text/plain": [
       "interactive(children=(Text(value='100, 50, 10', description='Study sizes:', placeholder='100, 100, 100'), IntS…"
      ]
     },
     "metadata": {},
     "output_type": "display_data"
    },
    {
     "data": {
      "text/plain": [
       "<function __main__.visualize_sample_problem(study_sizes='100, 100, 100', test_size=5, num_features=6, num_random_effects=3, obs_std=0.1, bootstrap='Nonparametric', bootstrap_capacity=100, mode='fast', method='gd', random_seed=42)>"
      ]
     },
     "execution_count": 7,
     "metadata": {},
     "output_type": "execute_result"
    }
   ],
   "source": [
    "interact_manual(visualize_sample_problem, \n",
    "                study_sizes = study_sizes_widget,\n",
    "                test_size = test_widget,\n",
    "                num_features = num_features_widget,\n",
    "                num_random_effects = num_random_features_widget,\n",
    "                obs_std = obs_std_widget,\n",
    "                bootstrap = bootstrap_widget,\n",
    "                bootstrap_capacity = bootstrap_capacity_widget,\n",
    "                mode = mode_widget, \n",
    "                method = method_widget,\n",
    "                random_seed = random_seed_widget)"
   ]
  },
  {
   "cell_type": "markdown",
   "metadata": {},
   "source": [
    "## May not work with "
   ]
  },
  {
   "cell_type": "markdown",
   "metadata": {},
   "source": [
    "seed = 623, 840"
   ]
  },
  {
   "cell_type": "markdown",
   "metadata": {},
   "source": [
    "## Convex path to zero"
   ]
  },
  {
   "cell_type": "code",
   "execution_count": 9,
   "metadata": {},
   "outputs": [
    {
     "name": "stderr",
     "output_type": "stream",
     "text": [
      "/Users/aksh/Storage/repos/dismod_research/experiments/lib/solvers.py:95: RuntimeWarning: invalid value encountered in double_scalars\n",
      "  result += 1 / 2 * xi.T.dot(omega_inv).dot(xi) - 1 / 2 * sign * determinant\n"
     ]
    },
    {
     "name": "stdout",
     "output_type": "stream",
     "text": [
      "2823\n"
     ]
    }
   ],
   "source": [
    "n = 3000\n",
    "logs = []\n",
    "for random_seed in range(n):\n",
    "    log = {\n",
    "            \"seed\": random_seed, \n",
    "            \"alpha\": []\n",
    "          }\n",
    "    train, beta, gamma, random_effects, errs = LinearLMEProblem.generate(seed=random_seed)\n",
    "    model = LinearLMESolver(method=\"nr\", mode=\"fast\", tol=1e-4, max_iter=1000)\n",
    "    try:\n",
    "        logger = model.fit(train)\n",
    "        if not logger[\"converged\"]:\n",
    "            continue\n",
    "        end_gamma = logger[\"gamma\"][-1]\n",
    "        for alpha in linspace(0.1, 1, 100):\n",
    "            beta0 = model.optimal_beta(alpha*end_gamma)\n",
    "            hessian = model.hessian_criterion(beta0, alpha*end_gamma)\n",
    "            eigvals = np.linalg.eigvals(hessian)\n",
    "            conv_par = -1\n",
    "            #if np.linalg.norm(np.imag(eigvals)) > 1e-15:\n",
    "            #    conv_par = -1\n",
    "            min_eigval = min(np.real(eigvals))\n",
    "            conv_par = min_eigval\n",
    "            log[\"alpha\"].append(conv_par)\n",
    "    except Exception:\n",
    "        continue\n",
    "\n",
    "    logs.append(log)\n",
    "print(len(logs))"
   ]
  },
  {
   "cell_type": "code",
   "execution_count": 10,
   "metadata": {},
   "outputs": [
    {
     "name": "stdout",
     "output_type": "stream",
     "text": [
      "0.01983705278072972\n"
     ]
    }
   ],
   "source": [
    "print(mean([min(log[\"alpha\"]) < 0 for log in logs]))"
   ]
  },
  {
   "cell_type": "markdown",
   "metadata": {},
   "source": [
    "It actually exists"
   ]
  },
  {
   "cell_type": "code",
   "execution_count": 115,
   "metadata": {},
   "outputs": [
    {
     "name": "stdout",
     "output_type": "stream",
     "text": [
      "326 [-1.3454178418390788e-15, 2.7707814698241958e-15, -7.280936627962823e-17, 2.8067508501487992e-15]\n",
      "818 [-2481.469197314991, -2252.691937654658, -1964.9312613549916, -1654.0434675346976]\n",
      "845 [183.56820429379107, 166.27953108585257, 151.32988046319204, 138.25384641914664]\n",
      "868 [-4.541928245043265e-26, -2.6066367690914314e-25, 2.077986988781667e-25, -1.021371405398406e-24]\n",
      "1009 [-166.6261375065178, 730.5764976632518, 1406.6091411098619, 1802.9766573464046]\n",
      "1099 [-1.6887532759406574e-29, -7.737352540762743e-29, 1.6981268299560025e-29, 4.0340738293877955e-29]\n",
      "1182 [-409.9308057015502, -208.294967695414, -23.158019866217558, 137.43239401237253]\n",
      "1341 [-1.2031480622219504e-26, 2.5588644159737155e-26, -39.96700861675007, -47.44612905269571]\n",
      "1444 [1.4050317432301083e-28, -4.4336352522217e-24, -3.083672149415787e-17, -5.678360529702028e-24]\n",
      "1496 [-0.8366025577957932, -0.854322319272935, -1.1046933339167164, -1.2350703412488924]\n",
      "1557 [-1.4136308608769413e-28, 1.4017848597844877e-29, -1.0192695424347773e-28, 2.3567997875024825e-28]\n",
      "1617 [-1.1425940286770007e-27, -6.819329551865314e-28, -2.906047652976712e-28, -5.194838982517158e-28]\n",
      "1679 [1.4940463872164052e-27, 6.451066519696304e-28, -1.1719203198239575e-27, 2.673680239527594e-29]\n",
      "1942 [-4.5190339430571216e-14, 4.1499227874884487e-13, 1.1856097703331701e-13, 2.2835247996582873e-14]\n",
      "1955 [-2.803703798241533e-13, 1.7910410186612106e-13, 7.948807316613287e-14, -2.7450982194702763e-13]\n",
      "2075 [-1.012578814826658e-28, 2.0517956009095167e-28, -1.8189894035458565e-12, -1.8189894035458565e-12]\n",
      "2142 [-6.028979599843542e-27, 3.3830090919643934e-28, -1.0672250312938239e-26, -3.959942880651556e-26]\n",
      "2241 [1031.5403668795807, 808.6591842052112, 645.3591222303039, 523.0016839529671]\n",
      "2266 [-3606.9500717162277, -4292.809370553472, -4565.96634329017, -4573.872894744105]\n",
      "2419 [-3.501180161261259, -3.6629604673796465, -3.838291197971226, -4.028419985543795]\n",
      "2497 [-4.9588318636623886e-24, -1.0848875418972187e-24, -4.0466256355096206e-24, 7.24990328052136e-24]\n",
      "2838 [-4081.9859319623984, -2713.5141614433314, -1869.0999609487026, -1320.4189314211767]\n"
     ]
    }
   ],
   "source": [
    "for i, log in enumerate(logs):\n",
    "    if min(log[\"alpha\"]) < 0:\n",
    "        print(i, log[\"alpha\"][:4])"
   ]
  },
  {
   "cell_type": "markdown",
   "metadata": {},
   "source": [
    "## Difference between minimas (unfinished)"
   ]
  },
  {
   "cell_type": "code",
   "execution_count": 61,
   "metadata": {},
   "outputs": [],
   "source": [
    "max_num_studies = 100\n",
    "num_features = 7\n",
    "num_random_effects = 2\n",
    "obs_std = 0.1\n",
    "gammas = []\n",
    "for j in range(2, 5, max_num_studies):\n",
    "    study_sizes = [50]*j\n",
    "    train, beta, gamma, random_effects, errs = LinearLMEProblem.generate(study_sizes=study_sizes,\n",
    "                                                                         num_features=num_features,\n",
    "                                                                         num_random_effects=num_random_effects,\n",
    "                                                                         obs_std=obs_std,\n",
    "                                                                         seed=j)\n",
    "    true_empirical_gamma = np.sum(random_effects ** 2, axis=0)/i\n",
    "    #true_empirical_gamma = np.var(random_effects, axis=0)\n",
    "    true_gamma = gamma \n",
    "    alg1 = LinearLMESolver(method=\"gd\")\n",
    "    alg2 = LinearLMESolver(method=\"empirical\")\n",
    "    alg1.fit(train)\n",
    "    alg2.fit(train)\n",
    "    gammas.append((true_gamma, true_empirical_gamma, alg1.gamma, alg2.gamma))"
   ]
  },
  {
   "cell_type": "code",
   "execution_count": 62,
   "metadata": {},
   "outputs": [],
   "source": [
    "true_gamma_dists = []\n",
    "empirical_gamma_dists = []\n",
    "for true_gamma, empirical_gamma, gamma1, gamma2 in gammas:\n",
    "    if gamma1 is None or gamma2 is None:\n",
    "        continue\n",
    "    true_gamma_dists.append((norm(true_gamma - gamma1), norm(true_gamma - gamma2)))\n",
    "    empirical_gamma_dists.append((norm(empirical_gamma - gamma1), norm(empirical_gamma - gamma2)))\n",
    "true_gamma_dists = array(true_gamma_dists).T\n",
    "empirical_gamma_dists = array(empirical_gamma_dists).T"
   ]
  },
  {
   "cell_type": "code",
   "execution_count": 64,
   "metadata": {},
   "outputs": [
    {
     "data": {
      "image/png": "[encoded data removed]",
      "text/plain": [
       "<Figure size 432x288 with 1 Axes>"
      ]
     },
     "metadata": {
      "needs_background": "light"
     },
     "output_type": "display_data"
    },
    {
     "data": {
      "image/png": "[encoded data removed]",
      "text/plain": [
       "<Figure size 432x288 with 1 Axes>"
      ]
     },
     "metadata": {
      "needs_background": "light"
     },
     "output_type": "display_data"
    }
   ],
   "source": [
    "nn = len(true_gamma_dists[0])\n",
    "semilogy(range(nn), true_gamma_dists[0], label=\"gd\")\n",
    "semilogy(range(nn), true_gamma_dists[1], label=\"empirical\")\n",
    "plt.title(\"Distance true gamma\")\n",
    "plt.legend()\n",
    "plt.show()\n",
    "semilogy(range(nn), empirical_gamma_dists[0], label=\"gd\")\n",
    "semilogy(range(nn), empirical_gamma_dists[1], label=\"empirical\")\n",
    "plt.title(\"Distance empirical gamma\")\n",
    "plt.legend()\n",
    "plt.show()"
   ]
  },
  {
   "cell_type": "markdown",
   "metadata": {},
   "source": [
    "## Correct gamma inference in EM algorithm"
   ]
  },
  {
   "cell_type": "code",
   "execution_count": 112,
   "metadata": {},
   "outputs": [],
   "source": [
    "gamma = array([0.5, 1, 2])"
   ]
  },
  {
   "cell_type": "code",
   "execution_count": 124,
   "metadata": {},
   "outputs": [],
   "source": [
    "emp_gammas = []\n",
    "\n",
    "for i in range(3, 200):\n",
    "    us = randn(i, 3)*sqrt(gamma)\n",
    "    emp_gamma = np.sum(us ** 2, axis=0)/i\n",
    "    emp_gammas.append(emp_gamma)"
   ]
  },
  {
   "cell_type": "code",
   "execution_count": 125,
   "metadata": {},
   "outputs": [
    {
     "data": {
      "text/plain": [
       "[<matplotlib.lines.Line2D at 0x11b44c550>,\n",
       " <matplotlib.lines.Line2D at 0x11b44c9d0>,\n",
       " <matplotlib.lines.Line2D at 0x11b44c590>]"
      ]
     },
     "execution_count": 125,
     "metadata": {},
     "output_type": "execute_result"
    },
    {
     "data": {
      "image/png": "[encoded data removed]",
      "text/plain": [
       "<Figure size 432x288 with 1 Axes>"
      ]
     },
     "metadata": {
      "needs_background": "light"
     },
     "output_type": "display_data"
    }
   ],
   "source": [
    "plot(emp_gammas - gamma)"
   ]
  },
  {
   "cell_type": "markdown",
   "metadata": {},
   "source": [
    "## Convexity of the losss"
   ]
  },
  {
   "cell_type": "code",
   "execution_count": 1,
   "metadata": {},
   "outputs": [],
   "source": [
    "β = 3"
   ]
  }
 ],
 "metadata": {
  "kernelspec": {
   "display_name": "Python 3",
   "language": "python",
   "name": "python3"
  },
  "language_info": {
   "codemirror_mode": {
    "name": "ipython",
    "version": 3
   },
   "file_extension": ".py",
   "mimetype": "text/x-python",
   "name": "python",
   "nbconvert_exporter": "python",
   "pygments_lexer": "ipython3",
   "version": "3.7.5"
  }
 },
 "nbformat": 4,
 "nbformat_minor": 2
}
