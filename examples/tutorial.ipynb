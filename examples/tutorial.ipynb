{
 "cells": [
  {
   "cell_type": "markdown",
   "metadata": {},
   "source": [
    "## Installing skmixed "
   ]
  },
  {
   "cell_type": "code",
   "execution_count": 1,
   "metadata": {},
   "outputs": [
    {
     "name": "stdout",
     "output_type": "stream",
     "text": [
      "Looking in indexes: https://test.pypi.org/simple/, https://pypi.org/simple/\n",
      "Collecting skmixed==0.0.5\n",
      "  Downloading https://test-files.pythonhosted.org/packages/37/92/e5f6d16756e79deb25cee49e26559e9357125a75261f75ab794765dd9b12/skmixed-0.0.5-py3-none-any.whl (66 kB)\n",
      "\u001B[K     |████████████████████████████████| 66 kB 972 kB/s eta 0:00:01\n",
      "\u001B[?25hRequirement already satisfied: pytest in /Users/aksh/.conda/lib/python3.7/site-packages (from skmixed==0.0.5) (5.3.5)\n",
      "Collecting sklearn\n",
      "  Using cached sklearn-0.0.tar.gz (1.1 kB)\n",
      "Requirement already satisfied: scipy in /Users/aksh/.conda/lib/python3.7/site-packages (from skmixed==0.0.5) (1.4.1)\n",
      "Requirement already satisfied: numpy in /Users/aksh/.conda/lib/python3.7/site-packages (from skmixed==0.0.5) (1.18.1)\n",
      "Requirement already satisfied: py>=1.5.0 in /Users/aksh/.conda/lib/python3.7/site-packages (from pytest->skmixed==0.0.5) (1.8.1)\n",
      "Requirement already satisfied: packaging in /Users/aksh/.conda/lib/python3.7/site-packages (from pytest->skmixed==0.0.5) (20.1)\n",
      "Requirement already satisfied: attrs>=17.4.0 in /Users/aksh/.conda/lib/python3.7/site-packages (from pytest->skmixed==0.0.5) (19.3.0)\n",
      "Requirement already satisfied: more-itertools>=4.0.0 in /Users/aksh/.conda/lib/python3.7/site-packages (from pytest->skmixed==0.0.5) (8.2.0)\n",
      "Requirement already satisfied: pluggy<1.0,>=0.12 in /Users/aksh/.conda/lib/python3.7/site-packages (from pytest->skmixed==0.0.5) (0.13.1)\n",
      "Requirement already satisfied: wcwidth in /Users/aksh/.conda/lib/python3.7/site-packages (from pytest->skmixed==0.0.5) (0.1.8)\n",
      "Requirement already satisfied: importlib-metadata>=0.12 in /Users/aksh/.conda/lib/python3.7/site-packages (from pytest->skmixed==0.0.5) (1.5.0)\n",
      "Requirement already satisfied: scikit-learn in /Users/aksh/.conda/lib/python3.7/site-packages (from sklearn->skmixed==0.0.5) (0.22.1)\n",
      "Requirement already satisfied: pyparsing>=2.0.2 in /Users/aksh/.conda/lib/python3.7/site-packages (from packaging->pytest->skmixed==0.0.5) (2.4.6)\n",
      "Requirement already satisfied: six in /Users/aksh/.conda/lib/python3.7/site-packages (from packaging->pytest->skmixed==0.0.5) (1.14.0)\n",
      "Requirement already satisfied: zipp>=0.5 in /Users/aksh/.conda/lib/python3.7/site-packages (from importlib-metadata>=0.12->pytest->skmixed==0.0.5) (2.2.0)\n",
      "Requirement already satisfied: joblib>=0.11 in /Users/aksh/.conda/lib/python3.7/site-packages (from scikit-learn->sklearn->skmixed==0.0.5) (0.14.1)\n",
      "Building wheels for collected packages: sklearn\n",
      "  Building wheel for sklearn (setup.py) ... \u001B[?25ldone\n",
      "\u001B[?25h  Created wheel for sklearn: filename=sklearn-0.0-py2.py3-none-any.whl size=1315 sha256=ff14dce5f7f461016e0268d4adf40fa6fe7d7bdc4762c293f0164e1a2b2044f9\n",
      "  Stored in directory: /Users/aksh/Library/Caches/pip/wheels/46/ef/c3/157e41f5ee1372d1be90b09f74f82b10e391eaacca8f22d33e\n",
      "Successfully built sklearn\n",
      "Installing collected packages: sklearn, skmixed\n",
      "Successfully installed sklearn-0.0 skmixed-0.0.5\n",
      "Requirement already satisfied: patsy in /Users/aksh/.conda/lib/python3.7/site-packages (0.5.1)\n",
      "Requirement already satisfied: six in /Users/aksh/.conda/lib/python3.7/site-packages (from patsy) (1.14.0)\n",
      "Requirement already satisfied: numpy>=1.4 in /Users/aksh/.conda/lib/python3.7/site-packages (from patsy) (1.18.1)\n"
     ]
    }
   ],
   "source": [
    "!git clone https://github.com/aksholokhov/skmixed\n",
    "!cd skmixed \n",
    "!python setup.py develop\n",
    "!pip install patsy"
   ]
  },
  {
   "cell_type": "markdown",
   "metadata": {},
   "source": [
    "If something goes wrong -- execute this to delete skmixed"
   ]
  },
  {
   "cell_type": "code",
   "execution_count": 3,
   "metadata": {},
   "outputs": [
    {
     "name": "stdout",
     "output_type": "stream",
     "text": [
      "\u001B[33mWARNING: Skipping skmixed as it is not installed.\u001B[0m\n",
      "Found existing installation: patsy 0.5.1\n",
      "Uninstalling patsy-0.5.1:\n",
      "  Successfully uninstalled patsy-0.5.1\n"
     ]
    }
   ],
   "source": [
    "!pip uninstall -y skmixed\n",
    "!pip uninstall -y patsy"
   ]
  },
  {
   "cell_type": "code",
   "execution_count": 12,
   "metadata": {},
   "outputs": [
    {
     "name": "stdout",
     "output_type": "stream",
     "text": [
      "Populating the interactive namespace from numpy and matplotlib\n"
     ]
    }
   ],
   "source": [
    "import numpy as np\n",
    "import pandas as pd\n",
    "from matplotlib import pyplot as plt\n",
    "import seaborn as sns\n",
    "from patsy import dmatrix\n",
    "%pylab inline\n",
    "\n",
    "from sklearn.metrics import mean_squared_error, explained_variance_score"
   ]
  },
  {
   "cell_type": "markdown",
   "metadata": {},
   "source": [
    "We only need two elements from the library:"
   ]
  },
  {
   "cell_type": "code",
   "execution_count": 13,
   "metadata": {},
   "outputs": [],
   "source": [
    "from skmixed.lme.problems import LinearLMEProblem\n",
    "from skmixed.lme.models import LinearLMESparseModel"
   ]
  },
  {
   "cell_type": "code",
   "execution_count": 22,
   "metadata": {
    "pycharm": {
     "name": "#%%\n"
    }
   },
   "outputs": [],
   "source": [
    "from skmixed.helpers import random_effects_to_matrix"
   ]
  },
  {
   "cell_type": "markdown",
   "metadata": {},
   "source": [
    "## Creating a synthetic dataset"
   ]
  },
  {
   "cell_type": "markdown",
   "metadata": {
    "pycharm": {
     "name": "#%% md\n"
    }
   },
   "source": [
    "LinearLMEProblem.generate() generates a random Linear Mixed-Effects problem which satisfy the given criteria."
   ]
  },
  {
   "cell_type": "code",
   "execution_count": 14,
   "metadata": {},
   "outputs": [
    {
     "name": "stdout",
     "output_type": "stream",
     "text": [
      "Help on function generate in module skmixed.lme.problems:\n",
      "\n",
      "generate(groups_sizes: Union[List[Union[int, NoneType]], NoneType] = None, features_labels: Union[List[int], NoneType] = None, random_intercept: bool = False, features_covariance_matrix: Union[numpy.ndarray, NoneType] = None, obs_std: Union[int, float, Sized, NoneType] = 0.1, beta: Union[numpy.ndarray, NoneType] = None, gamma: Union[numpy.ndarray, NoneType] = None, true_random_effects: Union[numpy.ndarray, NoneType] = None, as_x_y=False, return_true_model_coefficients: bool = True, seed: int = None, generator_params: dict = None)\n",
      "    Generates a random mixed-effects problem with given parameters.\n",
      "    \n",
      "    The model is::\n",
      "    \n",
      "        Y_i = X_i*β + Z_i*u_i + 𝜺_i,\n",
      "    \n",
      "        where\n",
      "    \n",
      "        u_i ~ 𝒩(0, diag(𝛄)),\n",
      "    \n",
      "        𝜺_i ~ 𝒩(0, diag(obs_std)\n",
      "    \n",
      "    Parameters\n",
      "    ----------\n",
      "    groups_sizes : List, Optional\n",
      "        List of groups sizes. If None then generates it from U[1, 1000]^k where k ~ U[1, 10]\n",
      "    \n",
      "    features_labels : List, Optional\n",
      "        List of features labels which define whether a role of features in the problem: 1 -- fixed only,\n",
      "        2 -- random only, 3 -- both, 5 -- categorical (active), 6 -- categorical (inactive).\n",
      "        Does NOT include intercept (it's handled with the random_intercept parameter).\n",
      "        If None then generates a random list from U[1, 4]^k where k ~ U[1, 10]\n",
      "    \n",
      "    random_intercept : bool, default is False\n",
      "        True if the intercept is a random parameter as well. Intercept is never a part\n",
      "        of the features_covariance_matrix or features_labels.\n",
      "    \n",
      "    features_covariance_matrix : np.ndarray, Optional, Symmetric and PSD\n",
      "        Covariance matrix of the features from features labels (columns from the dataset to be generated).\n",
      "        If None then defaults to the identity matrix, in which case all features are independent.\n",
      "        Should be the size of len(features_labels).\n",
      "    \n",
      "    obs_std : float or np.ndarray\n",
      "        Standard deviations of measurement errors. Can be:\n",
      "    \n",
      "            - float : In this case all errors for all groups have the same standard deviation std.\n",
      "            -   | np.array of length equal to the number of groups : In this case each group has its own standard\n",
      "                | deviation of the measurement errors, and it is the same for all objects within a group.\n",
      "            -   | stds : np.array of length equal to the number of objects in all groups cumulatively.\n",
      "                | In this case every object has its own standard deviation.\n",
      "    \n",
      "        Raise ValueError if obs_std has some other length then above.\n",
      "    \n",
      "    beta : np.ndarray\n",
      "        True vector of fixed effects. Should be equal to the number of fixed features in the features_labels\n",
      "        plus one (intercept).\n",
      "        If None then it's generated randomly from U[0, 1]^k where k is the number of fixed features plus intercept.\n",
      "    \n",
      "    gamma : np.ndarray\n",
      "        True vector of random effects. Should be equal to the number of random features in the features_labels\n",
      "        plus one if random_intercept is True.\n",
      "        If None then it's generated randomly from U[0, 1]^k where k is the number of random effects plus (maybe)\n",
      "        intercept.\n",
      "    \n",
      "    true_random_effects: np.ndarray\n",
      "        True random effects. Should be of a shape=(m, k) where m is the length of gamma, k is the number of groups.\n",
      "        If None then generated according to the model: u_i ~ 𝒩(0, diag(𝛄)).\n",
      "    \n",
      "    as_x_y : bool, default is False\n",
      "        If True, returns the data in the form of tuple of matrices (X, y). Otherwise returns an instance\n",
      "        of the respective class.\n",
      "    \n",
      "    return_true_model_coefficients : bool, default is True\n",
      "        If True, the second return argument is a dict with true model coefficients: beta, gamma, random effects and\n",
      "        true values of measurements errors, otherwise returns None.\n",
      "    \n",
      "    seed : int, default is None\n",
      "        If given, initializes the global Numpy random generator with this seed.\n",
      "    \n",
      "    generator_params : dict\n",
      "        Dictionary with the parameters of the problem generator, like min-max bounds for the number of groups and objects.\n",
      "        If None then the default one is used (see at the beginning of this file).\n",
      "    \n",
      "    Returns\n",
      "    -------\n",
      "    problem : LinearLMEProblem\n",
      "        Generated problem\n",
      "    true_parameters : dict, optional\n",
      "        True parameters for genrated problem:\n",
      "            - \"beta\" : true beta,\n",
      "            - \"gamma\" : true gamma,\n",
      "            - \"per_group_coefficients\": true per group coefficients (b such that y = Xb, where X is from to_x_y())\n",
      "            - \"active_categorical_set\": set of categorical features which were used for true latent group division\n",
      "            - \"true_group_labels\": labels from true latent group division\n",
      "            - \"random_effects\": true random effects\n",
      "            - \"errors\": true errors\n",
      "            - \"reference_loss_value\": loss value when true beta, gamma and random effects are used.\n",
      "\n"
     ]
    }
   ],
   "source": [
    "help(LinearLMEProblem.generate)"
   ]
  },
  {
   "cell_type": "code",
   "execution_count": 15,
   "metadata": {
    "pycharm": {
     "name": "#%%\n"
    }
   },
   "outputs": [],
   "source": [
    "problem_parameters = {                          # We want a random dataset, which:\n",
    "            \"groups_sizes\": [20, 5, 10, 15],    # 1) has four studies with these sizes\n",
    "            \"features_labels\": [3, 3, 3],       # 2) three features (columns) in the dataset, all have fixed and random components\n",
    "            \"random_intercept\": True,           # 3) the intercept also has a random component\n",
    "            \"features_covariance_matrix\": np.array([    # second and third features are correlated\n",
    "                [1, 0, 0],\n",
    "                [0, 1, 0.7],\n",
    "                [0, 0.7, 1]\n",
    "            ]),\n",
    "            \"obs_std\": 0.1,                    # all objects share the same observation errors' STD of 0.1.\n",
    "            \"seed\": 42                         # We fix random seed for reproducibility.\n",
    "        }\n",
    "\n",
    "problem, true_parameters = LinearLMEProblem.generate(**problem_parameters)"
   ]
  },
  {
   "cell_type": "markdown",
   "metadata": {
    "pycharm": {
     "name": "#%% md\n"
    }
   },
   "source": [
    "The class LinearLMEProblem provides a convinient representation of the dataset: data is separated by groups in the form of matrices X, y, Z, L. You can iterate over the groups:"
   ]
  },
  {
   "cell_type": "code",
   "execution_count": 16,
   "metadata": {
    "pycharm": {
     "name": "#%%\n"
    }
   },
   "outputs": [
    {
     "name": "stdout",
     "output_type": "stream",
     "text": [
      "This problem has 4 fixed effects and 4 random effects, including intercept.\n",
      "It consists of 4 studies: \n",
      " Study 1: 20 objects\n",
      " Study 2: 5 objects\n",
      " Study 3: 10 objects\n",
      " Study 4: 15 objects\n"
     ]
    }
   ],
   "source": [
    "print(\"This problem has %d fixed effects and %d random effects, including intercept.\" % \n",
    "      (problem.num_fixed_effects, problem.num_random_effects))\n",
    "print(\"It consists of %d studies: \" % problem.num_groups)\n",
    "for i, (x, y, z, l) in enumerate(problem):\n",
    "    print(\" Study %d: %d objects\"%(i+1, x.shape[0]))"
   ]
  },
  {
   "cell_type": "markdown",
   "metadata": {
    "pycharm": {
     "name": "#%% md\n"
    }
   },
   "source": [
    "Data can be converted to a familiar (X, y) representation through .to_x_y() routine, and back through LinearLMEProblem.from_x_y(X, y)."
   ]
  },
  {
   "cell_type": "code",
   "execution_count": 17,
   "metadata": {
    "pycharm": {
     "name": "#%%\n"
    }
   },
   "outputs": [],
   "source": [
    "X, y = problem.to_x_y()  # Transforms LinearLMEProblem to the (X, y) form "
   ]
  },
  {
   "cell_type": "markdown",
   "metadata": {
    "pycharm": {
     "name": "#%% md\n"
    }
   },
   "source": [
    "The following will make NumPy to print all arrays system-wide with 3 digits. To disable it see the last cell of the notebook."
   ]
  },
  {
   "cell_type": "code",
   "execution_count": 18,
   "metadata": {
    "pycharm": {
     "name": "#%%\n"
    }
   },
   "outputs": [],
   "source": [
    "np.set_printoptions(formatter={'float': lambda x: \"{:10.3f}\".format(x)})"
   ]
  },
  {
   "cell_type": "markdown",
   "metadata": {
    "pycharm": {
     "name": "#%% md\n"
    }
   },
   "source": [
    "The first line in the matrix X represents column types (labels). The interpretation is just above. "
   ]
  },
  {
   "cell_type": "code",
   "execution_count": 21,
   "metadata": {},
   "outputs": [
    {
     "name": "stdout",
     "output_type": "stream",
     "text": [
      "   Group       Group       Feature 1   Feature 2   Feature 3   Err STD    \n",
      "[[     0.000      5.000      3.000      3.000      3.000      4.000]\n",
      " [     0.000      0.000      0.767     -1.274     -1.638      0.100]\n",
      " [     0.000      0.000     -0.463     -0.320     -0.681      0.100]\n",
      " [     0.000      0.000     -1.913      0.445     -0.891      0.100]\n",
      " [     0.000      0.000     -1.013      0.397      0.640      0.100]\n",
      " [     0.000      0.000     -1.412      0.270      1.405      0.100]\n",
      " [     0.000      0.000      0.068      0.760     -0.344      0.100]\n",
      " [     0.000      0.000      0.111      0.948      0.056      0.100]\n",
      " [     0.000      0.000     -0.601     -0.233     -0.459      0.100]\n",
      " [     0.000      0.000      1.852      0.560      0.550      0.100]\n",
      " [     0.000      0.000      0.823      1.448      0.502      0.100]\n",
      " [     0.000      0.000     -1.960      0.322     -0.707      0.100]\n",
      " [     0.000      0.000      0.738     -0.248     -0.115      0.100]\n",
      " [     0.000      0.000     -0.301      0.679     -0.466      0.100]\n",
      " [     0.000      0.000     -0.461      0.254      1.073      0.100]\n",
      " [     0.000      0.000     -1.763     -0.442     -0.191      0.100]\n",
      " [     0.000      0.000     -0.677      0.118      0.592      0.100]\n",
      " [     0.000      0.000      0.931     -0.626     -1.276      0.100]\n",
      " [     0.000      0.000      0.331     -0.093      0.663      0.100]\n",
      " [     0.000      0.000     -0.186      0.870      0.013      0.100]\n",
      " [     0.000      0.000      0.813      0.578      1.628      0.100]\n",
      " [     1.000      1.000      1.004     -0.074      0.206      0.100]\n",
      " [     1.000      1.000      0.361     -0.001      1.190      0.100]\n",
      " [     1.000      1.000      1.565      1.048     -0.982      0.100]\n",
      " [     1.000      1.000      0.087     -0.642     -0.874      0.100]\n",
      " [     1.000      1.000     -1.988      0.000     -0.170      0.100]\n",
      " [     2.000      2.000      1.478     -0.129     -0.530      0.100]\n",
      " [     2.000      2.000     -0.502      0.391      1.100      0.100]\n",
      " [     2.000      2.000     -0.530     -0.502     -0.104      0.100]\n",
      " [     2.000      2.000      0.969      0.182     -0.361      0.100]\n",
      " [     2.000      2.000     -0.392      0.869     -0.265      0.100]\n",
      " [     2.000      2.000      0.261     -0.275     -0.271      0.100]\n",
      " [     2.000      2.000     -1.415      0.379      0.053      0.100]\n",
      " [     2.000      2.000     -0.802      0.378      0.254      0.100]\n",
      " [     2.000      2.000      1.886     -0.440     -0.305      0.100]\n",
      " [     2.000      2.000     -0.074      0.506     -0.981      0.100]\n",
      " [     3.000      3.000      0.060     -0.930      0.978      0.100]\n",
      " [     3.000      3.000      0.302      0.191      0.164      0.100]\n",
      " [     3.000      3.000      1.143      0.786      1.369      0.100]\n",
      " [     3.000      3.000     -0.909     -1.273     -0.186      0.100]\n",
      " [     3.000      3.000      0.587      0.444      2.141      0.100]\n",
      " [     3.000      3.000     -0.566      0.875      0.952      0.100]\n",
      " [     3.000      3.000     -1.551      0.438      0.491      0.100]\n",
      " [     3.000      3.000      0.474      1.335      0.623      0.100]\n",
      " [     3.000      3.000     -0.783     -1.304     -1.554      0.100]\n",
      " [     3.000      3.000     -1.231     -0.838     -0.662      0.100]\n",
      " [     3.000      3.000     -1.607     -1.277     -1.134      0.100]\n",
      " [     3.000      3.000      0.782      0.239     -0.719      0.100]\n",
      " [     3.000      3.000      0.522      1.102      1.332      0.100]\n",
      " [     3.000      3.000      0.346      0.032     -0.494      0.100]\n",
      " [     3.000      3.000      0.293      0.063     -0.491      0.100]]\n"
     ]
    }
   ],
   "source": [
    "print(\"   {: <11} {: <11} {: <11} {: <11} {: <11} {: <11}\".format( \"Group\",  \"Group\", \"Feature 1\", \"Feature 2\", \"Feature 3\", \"Err STD\"))\n",
    "print(X)"
   ]
  },
  {
   "cell_type": "code",
   "execution_count": 11,
   "metadata": {},
   "outputs": [
    {
     "name": "stdout",
     "output_type": "stream",
     "text": [
      "True beta:       [     0.375      0.951      0.732      0.599]\n"
     ]
    }
   ],
   "source": [
    "print(\"True beta:       %s\" % true_parameters[\"beta\"])"
   ]
  },
  {
   "cell_type": "code",
   "execution_count": 23,
   "metadata": {
    "pycharm": {
     "name": "#%%\n"
    }
   },
   "outputs": [
    {
     "name": "stdout",
     "output_type": "stream",
     "text": [
      "True gamma:      [     0.156      0.156      0.058      0.866] \n",
      "Empirical gamma: [     0.119      0.163      0.014      1.576]\n"
     ]
    }
   ],
   "source": [
    "empirical_gamma = np.sum(random_effects_to_matrix(true_parameters[\"random_effects\"]) ** 2, axis=0) / problem.num_groups\n",
    "print(\"True gamma:      %s \\nEmpirical gamma: %s\"%(true_parameters[\"gamma\"], empirical_gamma))"
   ]
  },
  {
   "cell_type": "markdown",
   "metadata": {
    "pycharm": {
     "name": "#%% md\n"
    }
   },
   "source": [
    "## Fitting a model"
   ]
  },
  {
   "cell_type": "code",
   "execution_count": 24,
   "metadata": {},
   "outputs": [
    {
     "name": "stdout",
     "output_type": "stream",
     "text": [
      "Help on function __init__ in module skmixed.lme.models:\n",
      "\n",
      "__init__(self, tol: float = 0.0001, tol_inner: float = 0.0001, tol_outer: float = 0.01, solver: str = 'pgd', initializer=None, n_iter: int = 1000, n_iter_inner: int = 20, n_iter_outer: int = 1, use_line_search: bool = True, lb: float = 1, lg: float = 1, regularization_type: str = 'l2', nnz_tbeta: int = 3, nnz_tgamma: int = 3, participation_in_selection=None, logger_keys: Set = ('converged',))\n",
      "    init: initializes the model.\n",
      "    \n",
      "    Parameters\n",
      "    ----------\n",
      "    tol : float\n",
      "        Tolerance for stopping criterion: ||tβ_{k+1} - tβ_k|| <= tol and ||t𝛄_{k+1} - t𝛄_k|| <= tol.\n",
      "    \n",
      "    tol_inner : float\n",
      "        Tolerance for inner optimization subroutine (min ℋ w.r.t. 𝛄) stopping criterion:\n",
      "        ||projected ∇ℋ|| <= tol_inner\n",
      "    \n",
      "    solver : {'pgd'} Solver to use in computational routines:\n",
      "    \n",
      "            - 'pgd' : Projected Gradient Descent\n",
      "    \n",
      "    initializer : {None, 'EM'}, Optional\n",
      "        Whether to use an initializer before starting the main optimization routine:\n",
      "    \n",
      "            - None : Does not do any special initialization, starts with the given initial point.\n",
      "            - 'EM' : Performs one step of a naive EM-algorithm in order to improve the initial point.\n",
      "    \n",
      "    n_iter : int\n",
      "        Number of iterations for the outer optimization cycle.\n",
      "    \n",
      "    n_iter_inner : int\n",
      "        Number of iterations for the inner optimization cycle.\n",
      "    \n",
      "    use_line_search : bool, default = True\n",
      "        Whether to use line search when optimizing w.r.t. 𝛄. If true, it starts from step_len = 1 and cuts it\n",
      "        in half until the descent criterion is met. If false, it uses a fixed step size of 1/iteration_number.\n",
      "    \n",
      "    lb : float\n",
      "        Regularization coefficient for the tβ-related term, see the loss-function description.\n",
      "    \n",
      "    lg : float\n",
      "        Regularization coefficient for the t𝛄-related term, see the loss-function description.\n",
      "    \n",
      "    regularization_type : str, one of {\"l2\", \"loss-weighted\"}, default = \"l2\"\n",
      "        Type of norm in the regularization terms. Options are:\n",
      "    \n",
      "            - 'l2' : Euclidean norm.\n",
      "            - 'loss-weighted' : A weighted norm designed so to drop the least important coefficients.\n",
      "    \n",
      "    nnz_tbeta : int,\n",
      "        How many non-zero coefficients are allowed in tβ.\n",
      "    \n",
      "    nnz_tgamma : int,\n",
      "        How many non-zero coefficients are allowed in t𝛄.\n",
      "    \n",
      "    participation_in_selection : Tuple of Int, Optional, default = None\n",
      "        Which features participate in selection. Defaults to None, which means all features participate in\n",
      "        selection process\n",
      "\n"
     ]
    }
   ],
   "source": [
    "help(LinearLMESparseModel.__init__)"
   ]
  },
  {
   "cell_type": "code",
   "execution_count": 59,
   "metadata": {},
   "outputs": [],
   "source": [
    "# Passing no parameters makes the algorithm to use the default ones, which should work just fine, but we specify\n",
    "# them explicitly here for the sake of clarity:\n",
    "\n",
    "model_parameters = {\n",
    "            \"nnz_tbeta\": 3,        # We want to keep three non-zero fixed effects...\n",
    "            \"nnz_tgamma\": 2,       # ... and two non-zero random effecta\n",
    "            \"lb\": 0.5,               # Regularizer for beta\n",
    "            \"lg\": 0.5,               # Regularizer for gamma\n",
    "            \"initializer\": None,   # No special initialization\n",
    "            \"logger_keys\": ('converged', 'loss',),  # We want to track the loss decrease\n",
    "            \"tol\": 1e-6,           # The tolerance for the outer conditions: ||beta-tbeta||<= tol, ||gamma -tgamma||<= tol\n",
    "            \"n_iter\": 1000,        # Max number of outer iterations (w.r.t. all four variables)\n",
    "            \"tol_inner\": 1e-4,     # Inner cycle tolerance: norm(projected_gradient(gamma)) <= tol_inner\n",
    "            \"n_iter_inner\": 100,   # Number of inner iterations (w.r.t. gamma)\n",
    "        }\n",
    "\n",
    "model = LinearLMESparseModel(**model_parameters)"
   ]
  },
  {
   "cell_type": "code",
   "execution_count": 60,
   "metadata": {
    "pycharm": {
     "name": "#%%\n"
    }
   },
   "outputs": [
    {
     "name": "stdout",
     "output_type": "stream",
     "text": [
      "Help on method fit in module skmixed.lme.models:\n",
      "\n",
      "fit(x: numpy.ndarray, y: numpy.ndarray, columns_labels: numpy.ndarray = None, initial_parameters: dict = None, warm_start=False, random_intercept=True, **kwargs) method of skmixed.lme.models.LinearLMESparseModel instance\n",
      "    Fits a Linear Model with Linear Mixed-Effects to the given data.\n",
      "    \n",
      "    Parameters\n",
      "    ----------\n",
      "    x : np.ndarray\n",
      "        Data. If columns_labels = None then it's assumed that columns_labels are in the first row of x.\n",
      "    \n",
      "    y : np.ndarray\n",
      "        Answers, real-valued array.\n",
      "    \n",
      "    columns_labels : np.ndarray\n",
      "        List of column labels. There shall be only one column of group labels and answers STDs,\n",
      "        and overall n columns with fixed effects (1 or 3) and k columns of random effects (2 or 3).\n",
      "    \n",
      "            - 1 : fixed effect\n",
      "            - 2 : random effect\n",
      "            - 3 : both fixed and random,\n",
      "            - 0 : groups labels\n",
      "            - 4 : answers standard deviations\n",
      "    \n",
      "    initial_parameters : np.ndarray\n",
      "        Dict with possible fields:\n",
      "    \n",
      "            -   | 'beta0' : np.ndarray, shape = [n],\n",
      "                | Initial estimate of fixed effects. If None then it defaults to an all-ones vector.\n",
      "            -   | 'gamma0' : np.ndarray, shape = [k],\n",
      "                | Initial estimate of random effects covariances. If None then it defaults to an all-ones vector.\n",
      "            -   | 'tbeta0' : np.ndarray, shape = [n],\n",
      "                | Initial estimate of sparse fixed effects. If None then it defaults to an all-zeros vector.\n",
      "            -   | 'tgamma0' : np.ndarray, shape = [k],\n",
      "                | Initial estimate of sparse random covariances. If None then it defaults to an all-zeros vector.\n",
      "    \n",
      "    warm_start : bool, default is False\n",
      "        Whether to use previous parameters as initial ones. Overrides initial_parameters if given.\n",
      "        Throws NotFittedError if set to True when not fitted.\n",
      "    \n",
      "    random_intercept : bool, default = True\n",
      "        Whether treat the intercept as a random effect.\n",
      "    kwargs :\n",
      "        Not used currently, left here for passing debugging parameters.\n",
      "    \n",
      "    Returns\n",
      "    -------\n",
      "    self : LinearLMESparseModel\n",
      "        Fitted regression model.\n",
      "\n"
     ]
    }
   ],
   "source": [
    "help(model.fit)"
   ]
  },
  {
   "cell_type": "markdown",
   "metadata": {
    "pycharm": {
     "name": "#%% md\n"
    }
   },
   "source": [
    "The model class implemets the standard SciKit-Learn interface: .fit(X, y) and .predict(X)"
   ]
  },
  {
   "cell_type": "code",
   "execution_count": 61,
   "metadata": {
    "pycharm": {
     "name": "#%%\n"
    }
   },
   "outputs": [
    {
     "data": {
      "text/plain": [
       "LinearLMESparseModel(lb=0.5, lg=0.5, logger_keys=('converged', 'loss'),\n",
       "                     n_iter_inner=100, nnz_tgamma=2, tol=1e-06)"
      ]
     },
     "execution_count": 61,
     "metadata": {},
     "output_type": "execute_result"
    }
   ],
   "source": [
    "model.fit(X, y)"
   ]
  },
  {
   "cell_type": "markdown",
   "metadata": {
    "pycharm": {
     "name": "#%% md\n"
    }
   },
   "source": [
    "When fitted, the model stores the dictionary with its coefficients in model.coef_"
   ]
  },
  {
   "cell_type": "code",
   "execution_count": 62,
   "metadata": {},
   "outputs": [],
   "source": [
    "coefficients = model.coef_ # get model's coefficients"
   ]
  },
  {
   "cell_type": "code",
   "execution_count": 63,
   "metadata": {},
   "outputs": [
    {
     "name": "stdout",
     "output_type": "stream",
     "text": [
      "True beta:       [0.37454012 0.95071431 0.73199394 0.59865848]\n",
      "Found beta:      [0.18348425 0.73312149 0.83778634 1.1014998 ]\n",
      "Found tbeta:     [0.         0.73312149 0.83778634 1.1014998 ]\n"
     ]
    }
   ],
   "source": [
    "print(\"True beta:       %s\" % true_parameters[\"beta\"])\n",
    "print(\"Found beta:      %s\" % coefficients[\"beta\"])\n",
    "print(\"Found tbeta:     %s\" % coefficients[\"tbeta\"])"
   ]
  },
  {
   "cell_type": "code",
   "execution_count": 53,
   "metadata": {},
   "outputs": [
    {
     "name": "stdout",
     "output_type": "stream",
     "text": [
      "True gamma:      [0.15601864 0.15599452 0.05808361 0.86617615]\n",
      "Empirical gamma: [0.11922107 0.1629733  0.01415701 1.57597178]\n",
      "Found gamma:     [3.90371881e-02 1.00242665e-01 1.73472348e-18 1.26062630e+00]\n",
      "Found tgamma:    [0.         0.10024267 0.         1.2606263 ]\n"
     ]
    }
   ],
   "source": [
    "print(\"True gamma:      %s\" % true_parameters[\"gamma\"])\n",
    "print(\"Empirical gamma: %s\" % empirical_gamma)\n",
    "print(\"Found gamma:     %s\" % coefficients[\"gamma\"])\n",
    "print(\"Found tgamma:    %s\" % coefficients[\"tgamma\"])"
   ]
  },
  {
   "cell_type": "code",
   "execution_count": 65,
   "metadata": {
    "pycharm": {
     "name": "#%%\n"
    }
   },
   "outputs": [
    {
     "name": "stdout",
     "output_type": "stream",
     "text": [
      "True groups coefficients:\n",
      "[[ 0.56170031  0.48019539  0.89022692  2.33510842]\n",
      " [ 0.03596978  0.52775309  0.84827241  1.18095823]\n",
      " [ 0.19817031  1.28895879  0.78359169 -0.81118839]\n",
      " [-0.16962819  0.5803096   0.85612023  1.57941714]] \n",
      "\n",
      "Found group coefficients:         mse = 0.010, explained variance = 1.00\n",
      "[[ 0.57716411  0.4759121   0.83778634  2.3910091 ]\n",
      " [ 0.06446677  0.58112698  0.83778634  1.20984442]\n",
      " [ 0.18960185  1.24397194  0.83778634 -0.80595683]\n",
      " [-0.09092447  0.63147495  0.83778634  1.61110267]] \n",
      "\n",
      "Found sparse group coefficients:  mse = 0.159, explained variance = 0.98\n",
      "[[ 0.          0.36612001  0.83778634  2.41347584]\n",
      " [ 0.          0.58807192  0.83778634  1.19890125]\n",
      " [ 0.          1.23884954  0.83778634 -0.89986104]\n",
      " [ 0.          0.65943609  0.83778634  1.58505886]]\n"
     ]
    }
   ],
   "source": [
    "y_pred_dense = model.predict(X)\n",
    "y_pred_sparse = model.predict(X, use_sparse_coefficients = True)\n",
    "\n",
    "print(\"True groups coefficients:\")\n",
    "print(true_parameters[\"beta\"] + random_effects_to_matrix(true_parameters[\"random_effects\"]), '\\n')\n",
    "print(\"Found group coefficients:         mse = %.3f, explained variance = %.2f\" % \n",
    "      (mean_squared_error(y, y_pred_dense), explained_variance_score(y, y_pred_dense)))\n",
    "print(coefficients[\"beta\"] + coefficients[\"random_effects\"], '\\n')\n",
    "print(\"Found sparse group coefficients:  mse = %.3f, explained variance = %.2f\"%\n",
    "      (mean_squared_error(y, y_pred_sparse), explained_variance_score(y, y_pred_sparse)))\n",
    "print(coefficients[\"tbeta\"] + coefficients[\"sparse_random_effects\"])"
   ]
  },
  {
   "cell_type": "markdown",
   "metadata": {
    "pycharm": {
     "name": "#%% md\n"
    }
   },
   "source": [
    "## Preparing a real dataset"
   ]
  },
  {
   "cell_type": "code",
   "execution_count": null,
   "outputs": [],
   "source": [
    "data = pd.read_csv(\"/Users/aksh/Storage/repos/IHME_data/smoking_sample_data.csv\") \n",
    "# Preview the first 5 lines of the loaded data \n",
    "data.head()"
   ],
   "metadata": {
    "collapsed": false,
    "pycharm": {
     "name": "#%%\n"
    }
   }
  },
  {
   "cell_type": "code",
   "execution_count": 66,
   "metadata": {},
   "outputs": [
    {
     "data": {
      "text/html": [
       "<div>\n",
       "<style scoped>\n",
       "    .dataframe tbody tr th:only-of-type {\n",
       "        vertical-align: middle;\n",
       "    }\n",
       "\n",
       "    .dataframe tbody tr th {\n",
       "        vertical-align: top;\n",
       "    }\n",
       "\n",
       "    .dataframe thead th {\n",
       "        text-align: right;\n",
       "    }\n",
       "</style>\n",
       "<table border=\"1\" class=\"dataframe\">\n",
       "  <thead>\n",
       "    <tr style=\"text-align: right;\">\n",
       "      <th></th>\n",
       "      <th>nid</th>\n",
       "      <th>underlying_nid</th>\n",
       "      <th>location_name</th>\n",
       "      <th>risk</th>\n",
       "      <th>outcome</th>\n",
       "      <th>design</th>\n",
       "      <th>year_start_study</th>\n",
       "      <th>year_end_study</th>\n",
       "      <th>age_start</th>\n",
       "      <th>age_end</th>\n",
       "      <th>...</th>\n",
       "      <th>upper</th>\n",
       "      <th>exposure_level</th>\n",
       "      <th>cov_confounder_quality</th>\n",
       "      <th>cov_reverse_causation</th>\n",
       "      <th>cov_representativeness</th>\n",
       "      <th>cov_exposure_quality</th>\n",
       "      <th>cov_outcome_quality</th>\n",
       "      <th>mean_log</th>\n",
       "      <th>se_log_tmp</th>\n",
       "      <th>exposure_level_packyears</th>\n",
       "    </tr>\n",
       "  </thead>\n",
       "  <tbody>\n",
       "    <tr>\n",
       "      <th>0</th>\n",
       "      <td>358597</td>\n",
       "      <td>NaN</td>\n",
       "      <td>Massachusetts</td>\n",
       "      <td>Smoking</td>\n",
       "      <td>Tracheal, bronchus, and lung cancer</td>\n",
       "      <td>Prospective cohort</td>\n",
       "      <td>1948.0</td>\n",
       "      <td>1958.0</td>\n",
       "      <td>NaN</td>\n",
       "      <td>NaN</td>\n",
       "      <td>...</td>\n",
       "      <td>23.74</td>\n",
       "      <td>21.3</td>\n",
       "      <td>3</td>\n",
       "      <td>0</td>\n",
       "      <td>1</td>\n",
       "      <td>1</td>\n",
       "      <td>1</td>\n",
       "      <td>2.586259</td>\n",
       "      <td>0.294831</td>\n",
       "      <td>21.3</td>\n",
       "    </tr>\n",
       "    <tr>\n",
       "      <th>1</th>\n",
       "      <td>358597</td>\n",
       "      <td>NaN</td>\n",
       "      <td>Massachusetts</td>\n",
       "      <td>Smoking</td>\n",
       "      <td>Tracheal, bronchus, and lung cancer</td>\n",
       "      <td>Prospective cohort</td>\n",
       "      <td>1971.0</td>\n",
       "      <td>1975.0</td>\n",
       "      <td>NaN</td>\n",
       "      <td>NaN</td>\n",
       "      <td>...</td>\n",
       "      <td>19.88</td>\n",
       "      <td>21.3</td>\n",
       "      <td>3</td>\n",
       "      <td>0</td>\n",
       "      <td>1</td>\n",
       "      <td>2</td>\n",
       "      <td>1</td>\n",
       "      <td>2.366498</td>\n",
       "      <td>0.316179</td>\n",
       "      <td>21.3</td>\n",
       "    </tr>\n",
       "    <tr>\n",
       "      <th>2</th>\n",
       "      <td>358597</td>\n",
       "      <td>NaN</td>\n",
       "      <td>Massachusetts</td>\n",
       "      <td>Smoking</td>\n",
       "      <td>Tracheal, bronchus, and lung cancer</td>\n",
       "      <td>Prospective cohort</td>\n",
       "      <td>1948.0</td>\n",
       "      <td>1975.0</td>\n",
       "      <td>NaN</td>\n",
       "      <td>NaN</td>\n",
       "      <td>...</td>\n",
       "      <td>18.42</td>\n",
       "      <td>21.3</td>\n",
       "      <td>3</td>\n",
       "      <td>0</td>\n",
       "      <td>1</td>\n",
       "      <td>1</td>\n",
       "      <td>1</td>\n",
       "      <td>2.489894</td>\n",
       "      <td>0.212309</td>\n",
       "      <td>21.3</td>\n",
       "    </tr>\n",
       "    <tr>\n",
       "      <th>3</th>\n",
       "      <td>328215</td>\n",
       "      <td>NaN</td>\n",
       "      <td>South Korea</td>\n",
       "      <td>Smoking</td>\n",
       "      <td>Tracheal, bronchus, and lung cancer</td>\n",
       "      <td>Prospective cohort</td>\n",
       "      <td>1993.0</td>\n",
       "      <td>2008.0</td>\n",
       "      <td>45.0</td>\n",
       "      <td>74.0</td>\n",
       "      <td>...</td>\n",
       "      <td>3.77</td>\n",
       "      <td>5.5</td>\n",
       "      <td>3</td>\n",
       "      <td>0</td>\n",
       "      <td>1</td>\n",
       "      <td>2</td>\n",
       "      <td>0</td>\n",
       "      <td>0.418710</td>\n",
       "      <td>0.462277</td>\n",
       "      <td>5.5</td>\n",
       "    </tr>\n",
       "    <tr>\n",
       "      <th>4</th>\n",
       "      <td>328215</td>\n",
       "      <td>NaN</td>\n",
       "      <td>South Korea</td>\n",
       "      <td>Smoking</td>\n",
       "      <td>Tracheal, bronchus, and lung cancer</td>\n",
       "      <td>Prospective cohort</td>\n",
       "      <td>1993.0</td>\n",
       "      <td>2008.0</td>\n",
       "      <td>45.0</td>\n",
       "      <td>74.0</td>\n",
       "      <td>...</td>\n",
       "      <td>4.52</td>\n",
       "      <td>13.0</td>\n",
       "      <td>3</td>\n",
       "      <td>0</td>\n",
       "      <td>1</td>\n",
       "      <td>2</td>\n",
       "      <td>0</td>\n",
       "      <td>0.512824</td>\n",
       "      <td>0.508327</td>\n",
       "      <td>13.0</td>\n",
       "    </tr>\n",
       "  </tbody>\n",
       "</table>\n",
       "<p>5 rows × 25 columns</p>\n",
       "</div>"
      ],
      "text/plain": [
       "      nid underlying_nid  location_name     risk  \\\n",
       "0  358597            NaN  Massachusetts  Smoking   \n",
       "1  358597            NaN  Massachusetts  Smoking   \n",
       "2  358597            NaN  Massachusetts  Smoking   \n",
       "3  328215            NaN    South Korea  Smoking   \n",
       "4  328215            NaN    South Korea  Smoking   \n",
       "\n",
       "                               outcome              design  year_start_study  \\\n",
       "0  Tracheal, bronchus, and lung cancer  Prospective cohort            1948.0   \n",
       "1  Tracheal, bronchus, and lung cancer  Prospective cohort            1971.0   \n",
       "2  Tracheal, bronchus, and lung cancer  Prospective cohort            1948.0   \n",
       "3  Tracheal, bronchus, and lung cancer  Prospective cohort            1993.0   \n",
       "4  Tracheal, bronchus, and lung cancer  Prospective cohort            1993.0   \n",
       "\n",
       "   year_end_study  age_start  age_end  ...  upper  exposure_level  \\\n",
       "0          1958.0        NaN      NaN  ...  23.74            21.3   \n",
       "1          1975.0        NaN      NaN  ...  19.88            21.3   \n",
       "2          1975.0        NaN      NaN  ...  18.42            21.3   \n",
       "3          2008.0       45.0     74.0  ...   3.77             5.5   \n",
       "4          2008.0       45.0     74.0  ...   4.52            13.0   \n",
       "\n",
       "   cov_confounder_quality  cov_reverse_causation  cov_representativeness  \\\n",
       "0                       3                      0                       1   \n",
       "1                       3                      0                       1   \n",
       "2                       3                      0                       1   \n",
       "3                       3                      0                       1   \n",
       "4                       3                      0                       1   \n",
       "\n",
       "   cov_exposure_quality  cov_outcome_quality  mean_log  se_log_tmp  \\\n",
       "0                     1                    1  2.586259    0.294831   \n",
       "1                     2                    1  2.366498    0.316179   \n",
       "2                     1                    1  2.489894    0.212309   \n",
       "3                     2                    0  0.418710    0.462277   \n",
       "4                     2                    0  0.512824    0.508327   \n",
       "\n",
       "   exposure_level_packyears  \n",
       "0                      21.3  \n",
       "1                      21.3  \n",
       "2                      21.3  \n",
       "3                       5.5  \n",
       "4                      13.0  \n",
       "\n",
       "[5 rows x 25 columns]"
      ]
     },
     "execution_count": 66,
     "metadata": {},
     "output_type": "execute_result"
    }
   ],
   "source": [
    "data[\"nid\"].value_counts()"
   ]
  },
  {
   "cell_type": "code",
   "execution_count": 34,
   "metadata": {},
   "outputs": [
    {
     "data": {
      "text/plain": [
       "343392    57\n",
       "336216    20\n",
       "355970    12\n",
       "357765    10\n",
       "334460     8\n",
       "321342     8\n",
       "357644     8\n",
       "358794     6\n",
       "357402     6\n",
       "357961     6\n",
       "358577     6\n",
       "357792     5\n",
       "328215     5\n",
       "359451     5\n",
       "193987     4\n",
       "357451     4\n",
       "328909     4\n",
       "358565     4\n",
       "358563     4\n",
       "358338     3\n",
       "355963     3\n",
       "358597     3\n",
       "358717     3\n",
       "355965     3\n",
       "358479     2\n",
       "Name: nid, dtype: int64"
      ]
     },
     "execution_count": 34,
     "metadata": {},
     "output_type": "execute_result"
    }
   ],
   "source": [
    "data[\"nid\"].value_counts()"
   ]
  },
  {
   "cell_type": "code",
   "execution_count": 35,
   "metadata": {},
   "outputs": [
    {
     "data": {
      "text/plain": [
       "<matplotlib.axes._subplots.AxesSubplot at 0x7f95e906fa30>"
      ]
     },
     "execution_count": 35,
     "metadata": {},
     "output_type": "execute_result"
    },
    {
     "data": {
      "image/png": "[encoded data removed]",
      "text/plain": [
       "<Figure size 1008x576 with 1 Axes>"
      ]
     },
     "metadata": {
      "needs_background": "light"
     },
     "output_type": "display_data"
    }
   ],
   "source": [
    "plt.figure(figsize=(14,8))\n",
    "sns.scatterplot(x=data[\"exposure_level\"], y=data[\"mean_log\"], hue=data[\"nid\"])"
   ]
  },
  {
   "cell_type": "markdown",
   "metadata": {},
   "source": [
    "## Fitting a real data"
   ]
  },
  {
   "cell_type": "code",
   "execution_count": 36,
   "metadata": {},
   "outputs": [],
   "source": [
    "X_smoking = data[[\"nid\", \"exposure_level\", \"se_log_tmp\"]].to_numpy()\n",
    "y_smoking = data[\"mean_log\"].to_numpy()\n",
    "smoking_features_labels = np.array([[\n",
    "    0,   # the first column is group labels\n",
    "    3,   # the second column is a random feature\n",
    "    4,   # the third column is measurement errors\n",
    "]])\n",
    "X_smoking = np.concatenate([smoking_features_labels, X_smoking], axis=0) # add the first line (labels)"
   ]
  },
  {
   "cell_type": "code",
   "execution_count": 37,
   "metadata": {},
   "outputs": [],
   "source": [
    "model_parameters = {\n",
    "            \"nnz_tbeta\": 2,  \n",
    "            \"nnz_tgamma\": 2, \n",
    "            \"lb\": 0,         # We expect no sparsity in our solution\n",
    "            \"lg\": 0,         # Same\n",
    "            \"initializer\": \"EM\",  # Initialize with EM one iteration of EM algorithm\n",
    "            \"logger_keys\": ('converged', 'loss',),\n",
    "            \"tol\": 1e-6,\n",
    "            \"n_iter\": 1000,\n",
    "            \"tol_inner\": 5e-4,\n",
    "            \"n_iter_inner\": 20\n",
    "        }\n",
    "\n",
    "model = LinearLMESparseModel(**model_parameters)"
   ]
  },
  {
   "cell_type": "code",
   "execution_count": 38,
   "metadata": {},
   "outputs": [
    {
     "name": "stdout",
     "output_type": "stream",
     "text": [
      "MSE: 2.022 \n",
      "Explained variance: -0.94\n"
     ]
    }
   ],
   "source": [
    "model.fit(X_smoking, y_smoking, random_intercept=True)\n",
    "y_smoking_pred = model.predict(X_smoking)\n",
    "print(\"MSE: %.3f \\nExplained variance: %.2f\" % \n",
    "      (mean_squared_error(y_smoking, y_smoking_pred), explained_variance_score(y_smoking, y_smoking_pred)))"
   ]
  },
  {
   "cell_type": "code",
   "execution_count": 39,
   "metadata": {},
   "outputs": [],
   "source": [
    "X_smoking = X_smoking[1:, :]"
   ]
  },
  {
   "cell_type": "code",
   "execution_count": 40,
   "metadata": {},
   "outputs": [
    {
     "data": {
      "text/plain": [
       "<matplotlib.legend.Legend at 0x7f95e906f820>"
      ]
     },
     "execution_count": 40,
     "metadata": {},
     "output_type": "execute_result"
    },
    {
     "data": {
      "image/png": "[encoded data removed]",
      "text/plain": [
       "<Figure size 648x432 with 1 Axes>"
      ]
     },
     "metadata": {
      "needs_background": "light"
     },
     "output_type": "display_data"
    }
   ],
   "source": [
    "coefficients = model.coef_\n",
    "\n",
    "plt.figure(figsize=(9, 6))\n",
    "groups_to_plot = [343392, 336216, 355970]\n",
    "colors = ['r', 'g', 'b']\n",
    "for label, c in zip(groups_to_plot, colors):\n",
    "    idx_of_this_label_in_train = np.where(coefficients[\"group_labels\"] == label)[0]\n",
    "    per_group_coefs = coefficients[\"per_group_coefficients\"][idx_of_this_label_in_train][0]\n",
    "    idxs = X_smoking[:, 0] == label\n",
    "    plt.scatter(X_smoking[idxs][:, 1], y_smoking[idxs], c=c, label=label)\n",
    "    plt.plot([0, 100], [per_group_coefs[0], per_group_coefs[0]+100*per_group_coefs[2]], c=c)\n",
    "legend()"
   ]
  },
  {
   "cell_type": "markdown",
   "metadata": {},
   "source": [
    "## Sparse spline regression on a real data"
   ]
  },
  {
   "cell_type": "code",
   "execution_count": 41,
   "metadata": {},
   "outputs": [],
   "source": [
    "basis = dmatrix(\"bs(x, knots=(30, 60), degree=3)\", {\"x\": data[\"exposure_level\"].to_numpy()})\n",
    "\n",
    "X_smoking = data[[\"nid\", \"se_log_tmp\"]].to_numpy()\n",
    "X_smoking = np.concatenate([X_smoking, basis[:, 1:]], axis=1)\n",
    "y_smoking = data[\"mean_log\"].to_numpy()\n",
    "smoking_features_labels = np.array([[\n",
    "    0,   # the first column is group labels\n",
    "    4,   # the second column is measurement errors\n",
    "    3,   # and we have 5 fixed+random features\n",
    "    3, \n",
    "    3, \n",
    "    3, \n",
    "    3\n",
    "]])\n",
    "X_smoking = np.concatenate([smoking_features_labels, X_smoking], axis=0) # add the first line (labels)"
   ]
  },
  {
   "cell_type": "code",
   "execution_count": 42,
   "metadata": {},
   "outputs": [],
   "source": [
    "model_parameters = {\n",
    "            \"nnz_tbeta\": 3,       # We want to keep only three splines\n",
    "            \"nnz_tgamma\": 3,      # They are allowed to have a random component\n",
    "            \"lb\": 10,         \n",
    "            \"lg\": 10,         \n",
    "            \"initializer\": \"EM\",  # Initialize with EM one iteration of EM algorithm\n",
    "            \"logger_keys\": ('converged', 'loss',),\n",
    "            \"tol\": 1e-6,\n",
    "            \"n_iter\": 1000,\n",
    "            \"tol_inner\": 5e-4,\n",
    "            \"n_iter_inner\": 20\n",
    "        }\n",
    "\n",
    "model = LinearLMESparseModel(**model_parameters)"
   ]
  },
  {
   "cell_type": "code",
   "execution_count": 43,
   "metadata": {},
   "outputs": [
    {
     "name": "stdout",
     "output_type": "stream",
     "text": [
      "Dense coefficients:  MSE = 1.938; explained variance = -0.85\n",
      "Sparse coefficients: MSE = 1.947; explained variance = -0.86\n"
     ]
    }
   ],
   "source": [
    "model.fit(X_smoking, y_smoking, random_intercept=True)\n",
    "y_smoking_pred = model.predict(X_smoking)\n",
    "y_smoking_pred_sparse = model.predict(X_smoking, use_sparse_coefficients=True)\n",
    "print(\"Dense coefficients:  MSE = %.3f; explained variance = %.2f\" % \n",
    "      (mean_squared_error(y_smoking, y_smoking_pred), explained_variance_score(y_smoking, y_smoking_pred)))\n",
    "print(\"Sparse coefficients: MSE = %.3f; explained variance = %.2f\" % \n",
    "      (mean_squared_error(y_smoking, y_smoking_pred_sparse), explained_variance_score(y_smoking, y_smoking_pred_sparse)))"
   ]
  },
  {
   "cell_type": "code",
   "execution_count": 44,
   "metadata": {},
   "outputs": [
    {
     "name": "stdout",
     "output_type": "stream",
     "text": [
      "Found beta:      [     0.929      0.388      1.487      2.183      0.615      0.421]\n",
      "Found tbeta:     [     0.929      0.000      1.487      2.183      0.000      0.000]\n",
      "Found gamma:     [     0.351      0.197      0.495      0.000      0.429      0.298]\n",
      "Found tgamma:    [     0.351      0.000      0.495      0.000      0.000      0.000]\n"
     ]
    }
   ],
   "source": [
    "coefficients = model.coef_\n",
    "print(\"Found beta:      %s\"%coefficients[\"beta\"])\n",
    "print(\"Found tbeta:     %s\"%coefficients[\"tbeta\"])\n",
    "print(\"Found gamma:     %s\"%coefficients[\"gamma\"])\n",
    "print(\"Found tgamma:    %s\"%coefficients[\"tgamma\"])"
   ]
  },
  {
   "cell_type": "code",
   "execution_count": 45,
   "metadata": {},
   "outputs": [],
   "source": [
    "group_labels = X_smoking[1:, 0]    # Saving groups labels\n",
    "X_smoking = np.concatenate([np.ones((199, 1)), X_smoking[1:, :]], axis=1) # adding inercept, dropping column labels"
   ]
  },
  {
   "cell_type": "code",
   "execution_count": 46,
   "metadata": {},
   "outputs": [
    {
     "data": {
      "text/plain": [
       "<matplotlib.legend.Legend at 0x7f95e86eaeb0>"
      ]
     },
     "execution_count": 46,
     "metadata": {},
     "output_type": "execute_result"
    },
    {
     "data": {
      "image/png": "[encoded data removed]",
      "text/plain": [
       "<Figure size 648x432 with 1 Axes>"
      ]
     },
     "metadata": {
      "needs_background": "light"
     },
     "output_type": "display_data"
    }
   ],
   "source": [
    "plt.figure(figsize=(9, 6))\n",
    "groups_to_plot = [343392, 336216, 355970]\n",
    "colors = ['r', 'g', 'b']\n",
    "X_smoking_exposure = data[\"exposure_level\"].to_numpy()\n",
    "for label, c in zip(groups_to_plot, colors):\n",
    "    idx_of_this_label_in_train = np.where(coefficients[\"group_labels\"] == label)[0]\n",
    "    per_group_coefs = coefficients[\"per_group_coefficients\"][idx_of_this_label_in_train][0]\n",
    "    sparse_per_group_coefs = coefficients[\"sparse_per_group_coefficients\"][idx_of_this_label_in_train][0]\n",
    "    #print(label, \":\\n\", per_group_coefs, '\\n', sparse_per_group_coefs)\n",
    "    idxs = group_labels == label\n",
    "    plt.scatter(X_smoking_exposure[idxs], y_smoking[idxs], c=c, label=label)\n",
    "    x_axis = X_smoking_exposure[idxs]\n",
    "    spline = X_smoking[idxs].dot(per_group_coefs)\n",
    "    sparse_spline = X_smoking[idxs].dot(sparse_per_group_coefs)\n",
    "    tt = np.array(sorted(zip(x_axis, spline, sparse_spline), key=lambda x: x[0])).T\n",
    "    plt.plot(tt[0], tt[1], c=c)\n",
    "    plt.plot(tt[0], tt[2], '--', c=c)\n",
    "plt.legend()"
   ]
  },
  {
   "cell_type": "markdown",
   "metadata": {},
   "source": [
    "## Setting the formatter back to its original settings"
   ]
  },
  {
   "cell_type": "code",
   "execution_count": 47,
   "metadata": {},
   "outputs": [],
   "source": [
    "np.set_printoptions(edgeitems=3,infstr='inf', linewidth=75, nanstr='nan', precision=8, suppress=False, threshold=1000, formatter=None)"
   ]
  }
 ],
 "metadata": {
  "kernelspec": {
   "display_name": "Environment (conda_skmixed)",
   "language": "python",
   "name": "conda_skmixed"
  },
  "language_info": {
   "codemirror_mode": {
    "name": "ipython",
    "version": 3
   },
   "file_extension": ".py",
   "mimetype": "text/x-python",
   "name": "python",
   "nbconvert_exporter": "python",
   "pygments_lexer": "ipython3",
   "version": "3.8.3"
  }
 },
 "nbformat": 4,
 "nbformat_minor": 2
}