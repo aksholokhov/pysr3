{
 "cells": [
  {
   "cell_type": "markdown",
   "source": [
    "![](https://img.shields.io/pypi/l/skmixed)\n",
    "![](https://img.shields.io/github/workflow/status/aksholokhov/skmixed/Testing%20and%20Coverage/sr3)\n",
    "![](https://img.shields.io/readthedocs/skmixed)\n",
    "![](https://img.shields.io/codecov/c/github/aksholokhov/skmixed/sr3?flag=unittests)\n",
    "[![Codacy Badge](https://app.codacy.com/project/badge/Grade/749695b3c6fd43bb9fdb499ec0ace67b)](https://www.codacy.com/gh/aksholokhov/skmixed/dashboard?utm_source=github.com&amp;utm_medium=referral&amp;utm_content=aksholokhov/skmixed&amp;utm_campaign=Badge_Grade)\n",
    "\n",
    "# SR3: Features Selection with Relaxed Regularization Framework."
   ],
   "metadata": {
    "collapsed": false
   }
  },
  {
   "cell_type": "markdown",
   "source": [
    "# Quickstart\n",
    "\n",
    "SR3 is a library designed for feature selection via Sparse Relaxed Regularized Regression (SR3) framework."
   ],
   "metadata": {
    "collapsed": false
   }
  },
  {
   "cell_type": "markdown",
   "source": [
    "## Installation"
   ],
   "metadata": {
    "collapsed": false
   }
  },
  {
   "cell_type": "code",
   "execution_count": null,
   "outputs": [],
   "source": [
    "# !pip install skmixed"
   ],
   "metadata": {
    "collapsed": false,
    "pycharm": {
     "name": "#%%\n"
    }
   }
  },
  {
   "cell_type": "markdown",
   "source": [
    "## Usage"
   ],
   "metadata": {
    "collapsed": false
   }
  },
  {
   "cell_type": "markdown",
   "source": [
    "### Linear Models"
   ],
   "metadata": {
    "collapsed": false
   }
  },
  {
   "cell_type": "code",
   "execution_count": null,
   "outputs": [],
   "source": [
    "import numpy as np\n",
    "\n",
    "from skmixed.linear.problems import LinearProblem\n",
    "\n",
    "# Create a sample dataset\n",
    "seed = 42\n",
    "num_objects = 300\n",
    "num_features = 500\n",
    "np.random.seed(seed)\n",
    "# create a vector of true model's coefficients\n",
    "true_x = np.random.choice(2, size=num_features, p=np.array([0.9, 0.1]))\n",
    "# create sample data\n",
    "a = 10*np.random.randn(num_objects, num_features)\n",
    "b = a.dot(true_x) + np.random.randn(num_objects)\n",
    "\n",
    "print(f\"The dataset has {a.shape[0]} objects and {a.shape[1]} features; \\n\"\n",
    "      f\"The vector of true parameters contains {sum(true_x != 0)} non-zero elements out of {num_features}.\")"
   ],
   "metadata": {
    "collapsed": false,
    "pycharm": {
     "name": "#%%\n"
    }
   }
  },
  {
   "cell_type": "code",
   "execution_count": null,
   "outputs": [],
   "source": [
    "# Automatic features selection using information criterion\n",
    "from skmixed.linear.models import LinearL1ModelSR3\n",
    "from sklearn.metrics import accuracy_score, confusion_matrix\n",
    "from sklearn.model_selection import RandomizedSearchCV\n",
    "from sklearn.utils.fixes import loguniform\n",
    "\n",
    "model = LinearL1ModelSR3(logger_keys=('aic', 'bic'))\n",
    "params = {\n",
    "    #\"el\": loguniform(1e-2, 1e2),\n",
    "    \"lam\": loguniform(1e-1, 1e2)\n",
    "}\n",
    "selector = RandomizedSearchCV(estimator=model,\n",
    "                              param_distributions=params,\n",
    "                              n_iter=50,\n",
    "                              scoring=lambda clf, X, y: -clf.logger_.get('bic'))\n",
    "\n",
    "selector.fit(a, b)\n",
    "maybe_x = selector.best_estimator_.coef_['x']\n",
    "tn, fp, fn, tp = confusion_matrix(true_x, maybe_x != 0).ravel()\n",
    "\n",
    "print(f\"The model found {tp} out of {tp + fn} features correctly, but also chose {fp} extra irrelevant features. \\n\"\n",
    "      f\"The best parameter is {selector.best_params_}\")"
   ],
   "metadata": {
    "collapsed": false,
    "pycharm": {
     "name": "#%%\n"
    }
   }
  },
  {
   "cell_type": "markdown",
   "source": [
    "Linear Mixed-Effects Models"
   ],
   "metadata": {
    "collapsed": false,
    "pycharm": {
     "name": "#%% md\n"
    }
   }
  },
  {
   "cell_type": "code",
   "execution_count": null,
   "outputs": [],
   "source": [],
   "metadata": {
    "collapsed": false,
    "pycharm": {
     "name": "#%%\n"
    }
   }
  }
 ],
 "metadata": {
  "kernelspec": {
   "display_name": "Environment (conda_skmixed)",
   "language": "python",
   "name": "conda_skmixed"
  },
  "language_info": {
   "codemirror_mode": {
    "name": "ipython",
    "version": 3
   },
   "file_extension": ".py",
   "mimetype": "text/x-python",
   "name": "python",
   "nbconvert_exporter": "python",
   "pygments_lexer": "ipython3",
   "version": "3.8.3"
  }
 },
 "nbformat": 4,
 "nbformat_minor": 2
}