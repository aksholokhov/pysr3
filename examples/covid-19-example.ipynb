{
 "cells": [
  {
   "cell_type": "code",
   "execution_count": 1,
   "outputs": [],
   "source": [
    "%load_ext autoreload\n",
    "%autoreload 2"
   ],
   "metadata": {
    "collapsed": false,
    "pycharm": {
     "name": "#%%\n"
    }
   }
  },
  {
   "cell_type": "code",
   "execution_count": 2,
   "outputs": [],
   "source": [
    "from pathlib import Path\n",
    "\n",
    "import json\n",
    "import numpy as np\n",
    "import pandas as pd\n",
    "from matplotlib import pyplot as plt\n",
    "\n",
    "import skmixed\n",
    "from skmixed.lme.models import LinearLMESparseModel"
   ],
   "metadata": {
    "collapsed": false,
    "pycharm": {
     "name": "#%%\n"
    }
   }
  },
  {
   "cell_type": "code",
   "execution_count": 3,
   "outputs": [
    {
     "name": "stdout",
     "output_type": "stream",
     "text": [
      "/Users/aksh/Storage/repos/skmixed/examples\r\n"
     ]
    }
   ],
   "source": [
    "!pwd"
   ],
   "metadata": {
    "collapsed": false,
    "pycharm": {
     "name": "#%%\n"
    }
   }
  },
  {
   "cell_type": "code",
   "execution_count": 4,
   "outputs": [],
   "source": [
    "data_path = Path(\"/Users/aksh/Storage/repos/covid-data/covid-19/seir-pipeline-outputs/\")\n",
    "covariates_version = \"2020_05_09.01.10\"\n",
    "regression_version = \"vis_test_3\"\n",
    "betas_path = data_path / 'regression' / regression_version / \"betas\"\n",
    "coefficients_path = data_path / 'regression' / regression_version / \"coefficients\" / \"coefficients_0.csv\"\n",
    "reg_settings_path = data_path / 'regression' / regression_version / \"settings.json\"\n",
    "covariates_path = data_path / 'covariate' / covariates_version / \"cached_covariates.csv\"\n",
    "cov_metadata_path = data_path / 'covariate' / covariates_version / \"metadata.yaml\"\n",
    "location_metadata_path = data_path / 'metadata_inputs' / 'location_metadata_0.csv'"
   ],
   "metadata": {
    "collapsed": false,
    "pycharm": {
     "name": "#%%\n"
    }
   }
  },
  {
   "cell_type": "code",
   "execution_count": 5,
   "outputs": [],
   "source": [
    "covariates_df = pd.read_csv(covariates_path)\n",
    "coefficients_df = pd.read_csv(coefficients_path)\n",
    "groups = set(coefficients_df['group_id'].unique())\n",
    "betas_df = {group: pd.read_csv(betas_path/f'{group}'/'regression_draw_0.csv') for group in groups}\n",
    "reg_settings = json.load(open(reg_settings_path))\n",
    "covariates = list(reg_settings['covariates'].keys())\n",
    "# covariates.remove(\"intercept\")"
   ],
   "metadata": {
    "collapsed": false,
    "pycharm": {
     "name": "#%%\n"
    }
   }
  },
  {
   "cell_type": "code",
   "execution_count": 10,
   "outputs": [],
   "source": [
    "all_betas = pd.concat(betas_df.values(), axis=0)\n",
    "all_betas[\"std\"] = 0.1\n",
    "X = all_betas[[\"location_id\"] + covariates + [\"std\"]].to_numpy()\n",
    "columns_labels = [0] + (len(covariates)-1)*[3] + [4]\n",
    "y = all_betas[\"beta\"].to_numpy()"
   ],
   "metadata": {
    "collapsed": false,
    "pycharm": {
     "name": "#%%\n"
    }
   }
  },
  {
   "cell_type": "code",
   "execution_count": 12,
   "outputs": [
    {
     "ename": "AssertionError",
     "evalue": "len(columns_labels) != x.shape[1] (not all columns are labelled)",
     "output_type": "error",
     "traceback": [
      "\u001B[0;31m---------------------------------------------------------------------------\u001B[0m",
      "\u001B[0;31mAssertionError\u001B[0m                            Traceback (most recent call last)",
      "\u001B[0;32m<ipython-input-12-09938c412743>\u001B[0m in \u001B[0;36m<module>\u001B[0;34m\u001B[0m\n\u001B[1;32m      1\u001B[0m \u001B[0;31m# pydev_debug_cell\u001B[0m\u001B[0;34m\u001B[0m\u001B[0;34m\u001B[0m\u001B[0;34m\u001B[0m\u001B[0m\n\u001B[1;32m      2\u001B[0m \u001B[0mmodel\u001B[0m \u001B[0;34m=\u001B[0m \u001B[0mLinearLMESparseModel\u001B[0m\u001B[0;34m(\u001B[0m\u001B[0mlb\u001B[0m\u001B[0;34m=\u001B[0m\u001B[0;36m0\u001B[0m\u001B[0;34m,\u001B[0m \u001B[0mlg\u001B[0m\u001B[0;34m=\u001B[0m\u001B[0;36m0\u001B[0m\u001B[0;34m)\u001B[0m\u001B[0;34m\u001B[0m\u001B[0;34m\u001B[0m\u001B[0m\n\u001B[0;32m----> 3\u001B[0;31m \u001B[0mmodel\u001B[0m\u001B[0;34m.\u001B[0m\u001B[0mfit\u001B[0m\u001B[0;34m(\u001B[0m\u001B[0mX\u001B[0m\u001B[0;34m,\u001B[0m \u001B[0my\u001B[0m\u001B[0;34m,\u001B[0m \u001B[0mcolumns_labels\u001B[0m\u001B[0;34m=\u001B[0m\u001B[0mcolumns_labels\u001B[0m\u001B[0;34m)\u001B[0m\u001B[0;34m\u001B[0m\u001B[0;34m\u001B[0m\u001B[0m\n\u001B[0m\u001B[1;32m      4\u001B[0m \u001B[0mlogger\u001B[0m \u001B[0;34m=\u001B[0m \u001B[0mmodel\u001B[0m\u001B[0;34m.\u001B[0m\u001B[0mlogger_\u001B[0m\u001B[0;34m\u001B[0m\u001B[0;34m\u001B[0m\u001B[0m\n\u001B[1;32m      5\u001B[0m \u001B[0mall_betas\u001B[0m\u001B[0;34m[\u001B[0m\u001B[0;34m\"prediction\"\u001B[0m\u001B[0;34m]\u001B[0m \u001B[0;34m=\u001B[0m \u001B[0mmodel\u001B[0m\u001B[0;34m.\u001B[0m\u001B[0mpredict\u001B[0m\u001B[0;34m(\u001B[0m\u001B[0mX\u001B[0m\u001B[0;34m,\u001B[0m \u001B[0mcolumns_labels\u001B[0m\u001B[0;34m=\u001B[0m\u001B[0mcolumns_labels\u001B[0m\u001B[0;34m)\u001B[0m\u001B[0;34m\u001B[0m\u001B[0;34m\u001B[0m\u001B[0m\n",
      "\u001B[0;32m~/Storage/repos/skmixed/skmixed/lme/models.py\u001B[0m in \u001B[0;36mfit\u001B[0;34m(self, x, y, columns_labels, initial_parameters, warm_start, random_intercept, **kwargs)\u001B[0m\n\u001B[1;32m    194\u001B[0m         \"\"\"\n\u001B[1;32m    195\u001B[0m \u001B[0;34m\u001B[0m\u001B[0m\n\u001B[0;32m--> 196\u001B[0;31m         \u001B[0mproblem\u001B[0m\u001B[0;34m,\u001B[0m \u001B[0m_\u001B[0m \u001B[0;34m=\u001B[0m \u001B[0mLinearLMEProblem\u001B[0m\u001B[0;34m.\u001B[0m\u001B[0mfrom_x_y\u001B[0m\u001B[0;34m(\u001B[0m\u001B[0mx\u001B[0m\u001B[0;34m,\u001B[0m \u001B[0my\u001B[0m\u001B[0;34m,\u001B[0m \u001B[0mcolumns_labels\u001B[0m\u001B[0;34m,\u001B[0m \u001B[0mrandom_intercept\u001B[0m\u001B[0;34m=\u001B[0m\u001B[0mrandom_intercept\u001B[0m\u001B[0;34m,\u001B[0m \u001B[0;34m**\u001B[0m\u001B[0mkwargs\u001B[0m\u001B[0;34m)\u001B[0m\u001B[0;34m\u001B[0m\u001B[0;34m\u001B[0m\u001B[0m\n\u001B[0m\u001B[1;32m    197\u001B[0m         \u001B[0;32mif\u001B[0m \u001B[0minitial_parameters\u001B[0m \u001B[0;32mis\u001B[0m \u001B[0;32mNone\u001B[0m\u001B[0;34m:\u001B[0m\u001B[0;34m\u001B[0m\u001B[0;34m\u001B[0m\u001B[0m\n\u001B[1;32m    198\u001B[0m             \u001B[0minitial_parameters\u001B[0m \u001B[0;34m=\u001B[0m \u001B[0;34m{\u001B[0m\u001B[0;34m}\u001B[0m\u001B[0;34m\u001B[0m\u001B[0;34m\u001B[0m\u001B[0m\n",
      "\u001B[0;32m~/Storage/repos/skmixed/skmixed/lme/problems.py\u001B[0m in \u001B[0;36mfrom_x_y\u001B[0;34m(x, y, columns_labels, random_intercept, **kwargs)\u001B[0m\n\u001B[1;32m    368\u001B[0m             \u001B[0mx\u001B[0m\u001B[0;34m,\u001B[0m \u001B[0my\u001B[0m \u001B[0;34m=\u001B[0m \u001B[0mcheck_X_y\u001B[0m\u001B[0;34m(\u001B[0m\u001B[0mx\u001B[0m\u001B[0;34m,\u001B[0m \u001B[0my\u001B[0m\u001B[0;34m)\u001B[0m\u001B[0;34m\u001B[0m\u001B[0;34m\u001B[0m\u001B[0m\n\u001B[1;32m    369\u001B[0m         \u001B[0;32massert\u001B[0m \u001B[0mset\u001B[0m\u001B[0;34m(\u001B[0m\u001B[0mcolumns_labels\u001B[0m\u001B[0;34m)\u001B[0m\u001B[0;34m.\u001B[0m\u001B[0missubset\u001B[0m\u001B[0;34m(\u001B[0m\u001B[0;34m(\u001B[0m\u001B[0;36m0\u001B[0m\u001B[0;34m,\u001B[0m \u001B[0;36m1\u001B[0m\u001B[0;34m,\u001B[0m \u001B[0;36m2\u001B[0m\u001B[0;34m,\u001B[0m \u001B[0;36m3\u001B[0m\u001B[0;34m,\u001B[0m \u001B[0;36m4\u001B[0m\u001B[0;34m)\u001B[0m\u001B[0;34m)\u001B[0m\u001B[0;34m,\u001B[0m \u001B[0;34m\"Only 0, 1, 2, 3, and 4 are allowed in columns_labels\"\u001B[0m\u001B[0;34m\u001B[0m\u001B[0;34m\u001B[0m\u001B[0m\n\u001B[0;32m--> 370\u001B[0;31m         \u001B[0;32massert\u001B[0m \u001B[0mlen\u001B[0m\u001B[0;34m(\u001B[0m\u001B[0mcolumns_labels\u001B[0m\u001B[0;34m)\u001B[0m \u001B[0;34m==\u001B[0m \u001B[0mx\u001B[0m\u001B[0;34m.\u001B[0m\u001B[0mshape\u001B[0m\u001B[0;34m[\u001B[0m\u001B[0;36m1\u001B[0m\u001B[0;34m]\u001B[0m\u001B[0;34m,\u001B[0m \u001B[0;34m\"len(columns_labels) != x.shape[1] (not all columns are labelled)\"\u001B[0m\u001B[0;34m\u001B[0m\u001B[0;34m\u001B[0m\u001B[0m\n\u001B[0m\u001B[1;32m    371\u001B[0m         \u001B[0;31m# take the index of a column that stores group labels\u001B[0m\u001B[0;34m\u001B[0m\u001B[0;34m\u001B[0m\u001B[0;34m\u001B[0m\u001B[0m\n\u001B[1;32m    372\u001B[0m         \u001B[0mgroup_labels_idx\u001B[0m \u001B[0;34m=\u001B[0m \u001B[0;34m[\u001B[0m\u001B[0mi\u001B[0m \u001B[0;32mfor\u001B[0m \u001B[0mi\u001B[0m\u001B[0;34m,\u001B[0m \u001B[0mlabel\u001B[0m \u001B[0;32min\u001B[0m \u001B[0menumerate\u001B[0m\u001B[0;34m(\u001B[0m\u001B[0mcolumns_labels\u001B[0m\u001B[0;34m)\u001B[0m \u001B[0;32mif\u001B[0m \u001B[0mlabel\u001B[0m \u001B[0;34m==\u001B[0m \u001B[0;36m0\u001B[0m\u001B[0;34m]\u001B[0m\u001B[0;34m\u001B[0m\u001B[0;34m\u001B[0m\u001B[0m\n",
      "\u001B[0;31mAssertionError\u001B[0m: len(columns_labels) != x.shape[1] (not all columns are labelled)"
     ]
    }
   ],
   "source": [
    "model = LinearLMESparseModel(lb=0, lg=0)\n",
    "model.fit(X, y, columns_labels=columns_labels)\n",
    "logger = model.logger_\n",
    "all_betas[\"prediction\"] = model.predict(X, columns_labels=columns_labels)"
   ],
   "metadata": {
    "collapsed": false,
    "pycharm": {
     "name": "#%%\n"
    }
   }
  },
  {
   "cell_type": "code",
   "execution_count": 8,
   "outputs": [
    {
     "data": {
      "text/plain": "<matplotlib.legend.Legend at 0x7f9065800eb0>"
     },
     "execution_count": 8,
     "metadata": {},
     "output_type": "execute_result"
    },
    {
     "data": {
      "text/plain": "<Figure size 432x288 with 1 Axes>",
      "image/png": "[encoded data removed]"
     },
     "metadata": {
      "needs_background": "light"
     },
     "output_type": "display_data"
    }
   ],
   "source": [
    "group = 523\n",
    "cur_betas = all_betas[all_betas[\"location_id\"] == group]\n",
    "time = pd.to_datetime(cur_betas['date'])\n",
    "plt.plot(time, cur_betas[\"beta\"], label='True')\n",
    "plt.plot(time, cur_betas[\"beta_pred\"], label='IHME')\n",
    "plt.plot(time, cur_betas[\"prediction\"], label=\"Me\")\n",
    "plt.legend()"
   ],
   "metadata": {
    "collapsed": false,
    "pycharm": {
     "name": "#%%\n"
    }
   }
  },
  {
   "cell_type": "code",
   "execution_count": 13,
   "outputs": [
    {
     "data": {
      "text/plain": "{'beta': array([ 1.50653863e+01, -3.24156166e-02,  2.05353252e-02, -2.00749016e+01,\n        -1.18926611e+02,  7.47866770e+00]),\n 'gamma': array([4.19835588e+02, 6.63940918e+01, 2.78534994e+08, 1.49006278e+02,\n        1.19391940e+00, 4.19835588e+02]),\n 'tbeta': array([  15.06538627,    0.        ,    0.        ,  -20.07490162,\n        -118.92661064,    0.        ]),\n 'tgamma': array([419.83558837,   0.        ,   0.        , 149.00627818,\n          1.1939194 ,   0.        ]),\n 'random_effects': array([[ 4.44501811e+01, -3.13807975e-01, -3.73012489e-03,\n          9.61086748e+00, -4.47390708e-04,  4.44501811e+01],\n        [ 2.77727287e+01, -1.96528449e-01, -1.36924430e-02,\n          6.08236729e+00,  3.27892300e-04,  2.77727287e+01],\n        [-1.41882406e+00, -6.00792015e-03,  2.29904211e-02,\n         -1.55064353e-01, -1.02650879e-03, -1.41882406e+00],\n        ...,\n        [-7.78079593e-01, -1.24909221e-02,  2.79734777e-04,\n         -9.46856560e-02, -7.13592375e-03, -7.78079593e-01],\n        [-4.86438952e+00,  3.86509946e-02, -1.30657321e-02,\n         -1.11810470e+00, -4.66717973e-03, -4.86438952e+00],\n        [-4.42497902e+00,  3.51004650e-02, -1.45855601e-02,\n         -1.01710395e+00, -2.00117086e-03, -4.42497902e+00]]),\n 'sparse_random_effects': array([[-1.91276905e+00,  0.00000000e+00,  0.00000000e+00,\n         -4.13572439e-01, -1.95825157e-02,  0.00000000e+00],\n        [-1.71436067e+00,  0.00000000e+00,  0.00000000e+00,\n         -3.75453610e-01, -2.39999306e-03,  0.00000000e+00],\n        [-7.98561775e+00,  0.00000000e+00,  0.00000000e+00,\n         -8.72754195e-01, -1.61234209e-02,  0.00000000e+00],\n        ...,\n        [-7.12680878e+00,  0.00000000e+00,  0.00000000e+00,\n         -8.67271897e-01, -8.40969605e-02,  0.00000000e+00],\n        [-1.27114568e+00,  0.00000000e+00,  0.00000000e+00,\n         -2.92179307e-01, -4.31980507e-02,  0.00000000e+00],\n        [-1.26613476e+00,  0.00000000e+00,  0.00000000e+00,\n         -2.91027520e-01, -3.25891538e-02,  0.00000000e+00]]),\n 'group_labels': array([1.3000e+01, 1.6000e+01, 4.5000e+01, 4.6000e+01, 4.7000e+01,\n        4.8000e+01, 5.1000e+01, 5.2000e+01, 5.3000e+01, 5.4000e+01,\n        5.5000e+01, 5.8000e+01, 5.9000e+01, 6.0000e+01, 6.1000e+01,\n        6.3000e+01, 6.7000e+01, 6.8000e+01, 7.5000e+01, 7.6000e+01,\n        7.7000e+01, 7.8000e+01, 7.9000e+01, 8.0000e+01, 8.2000e+01,\n        8.3000e+01, 8.4000e+01, 8.5000e+01, 8.7000e+01, 8.9000e+01,\n        9.0000e+01, 9.1000e+01, 9.3000e+01, 9.4000e+01, 9.5000e+01,\n        9.7000e+01, 9.8000e+01, 1.1100e+02, 1.2200e+02, 1.2300e+02,\n        1.2500e+02, 1.3200e+02, 1.4100e+02, 1.4200e+02, 1.5500e+02,\n        3.8500e+02, 5.2300e+02, 5.2400e+02, 5.2500e+02, 5.2600e+02,\n        5.2700e+02, 5.2800e+02, 5.2900e+02, 5.3000e+02, 5.3100e+02,\n        5.3200e+02, 5.3300e+02, 5.3400e+02, 5.3500e+02, 5.3600e+02,\n        5.3700e+02, 5.3800e+02, 5.3900e+02, 5.4000e+02, 5.4100e+02,\n        5.4200e+02, 5.4300e+02, 5.4400e+02, 5.4500e+02, 5.4600e+02,\n        5.4700e+02, 5.4800e+02, 5.4900e+02, 5.5000e+02, 5.5100e+02,\n        5.5200e+02, 5.5300e+02, 5.5400e+02, 5.5500e+02, 5.5600e+02,\n        5.5700e+02, 5.5800e+02, 5.5900e+02, 5.6000e+02, 5.6100e+02,\n        5.6200e+02, 5.6300e+02, 5.6400e+02, 5.6500e+02, 5.6600e+02,\n        5.6700e+02, 5.6800e+02, 5.6900e+02, 5.7100e+02, 5.7200e+02,\n        5.7300e+02, 3.5390e+03, 4.6440e+03, 4.6510e+03, 4.6570e+03,\n        4.6630e+03, 4.6650e+03, 4.6670e+03, 4.6690e+03, 4.7520e+03,\n        4.7540e+03, 4.7550e+03, 4.7590e+03, 4.7650e+03, 4.7660e+03,\n        4.7680e+03, 4.7750e+03, 3.5494e+04, 3.5495e+04, 3.5496e+04,\n        3.5497e+04, 3.5498e+04, 3.5499e+04, 3.5500e+04, 3.5501e+04,\n        3.5502e+04, 3.5503e+04, 3.5504e+04, 3.5505e+04, 3.5506e+04,\n        3.5507e+04, 3.5508e+04, 3.5509e+04, 3.5510e+04, 3.5511e+04,\n        3.5512e+04, 3.5513e+04, 3.5514e+04, 4.3858e+04, 4.3859e+04,\n        4.3866e+04, 4.3868e+04, 6.0357e+04, 6.0358e+04, 6.0359e+04,\n        6.0360e+04, 6.0361e+04, 6.0362e+04, 6.0363e+04, 6.0364e+04,\n        6.0365e+04, 6.0366e+04, 6.0367e+04, 6.0368e+04, 6.0369e+04,\n        6.0370e+04, 6.0371e+04, 6.0372e+04, 6.0374e+04, 6.0376e+04,\n        6.0377e+04, 6.0378e+04, 6.0379e+04, 6.0380e+04, 6.0381e+04,\n        6.0382e+04, 6.0383e+04, 6.0384e+04, 6.0385e+04, 6.0386e+04,\n        6.0387e+04, 6.0388e+04, 6.0389e+04, 6.0390e+04, 6.0391e+04,\n        6.0392e+04, 6.0886e+04, 6.0887e+04]),\n 'per_group_coefficients': array([[ 5.95155674e+01,  0.00000000e+00, -3.46223592e-01, ...,\n         -1.18927058e+02,  5.19288488e+01,  0.00000000e+00],\n        [ 4.28381150e+01,  0.00000000e+00, -2.28944066e-01, ...,\n         -1.18926283e+02,  3.52513964e+01,  0.00000000e+00],\n        [ 1.36465622e+01,  0.00000000e+00, -3.84235368e-02, ...,\n         -1.18927637e+02,  6.05984364e+00,  0.00000000e+00],\n        ...,\n        [ 1.42873067e+01,  0.00000000e+00, -4.49065388e-02, ...,\n         -1.18933747e+02,  6.70058811e+00,  0.00000000e+00],\n        [ 1.02009968e+01,  0.00000000e+00,  6.23537800e-03, ...,\n         -1.18931278e+02,  2.61427818e+00,  0.00000000e+00],\n        [ 1.06404073e+01,  0.00000000e+00,  2.68484838e-03, ...,\n         -1.18928612e+02,  3.05368869e+00,  0.00000000e+00]]),\n 'sparse_per_group_coefficients': array([[  13.15261722,    0.        ,    0.        , ..., -118.94619316,\n            0.        ,    0.        ],\n        [  13.35102561,    0.        ,    0.        , ..., -118.92901063,\n            0.        ,    0.        ],\n        [   7.07976852,    0.        ,    0.        , ..., -118.94273406,\n            0.        ,    0.        ],\n        ...,\n        [   7.93857749,    0.        ,    0.        , ..., -119.0107076 ,\n            0.        ,    0.        ],\n        [  13.79424059,    0.        ,    0.        , ..., -118.96980869,\n            0.        ,    0.        ],\n        [  13.79925151,    0.        ,    0.        , ..., -118.95919979,\n            0.        ,    0.        ]])}"
     },
     "execution_count": 13,
     "metadata": {},
     "output_type": "execute_result"
    }
   ],
   "source": [
    "model.coef_"
   ],
   "metadata": {
    "collapsed": false,
    "pycharm": {
     "name": "#%%\n"
    }
   }
  },
  {
   "cell_type": "code",
   "execution_count": 18,
   "outputs": [
    {
     "data": {
      "text/plain": "['index',\n 'loc_id',\n 'date',\n 'days',\n 'beta',\n 'S',\n 'E',\n 'I1',\n 'I2',\n 'R',\n 'newE',\n 'newE_obs',\n 'location_id',\n 'temperature',\n 'mobility_lift',\n 'proportion_over_1k',\n 'testing_reference',\n 'intercept',\n 'beta_pred',\n 'std',\n 'prediction']"
     },
     "execution_count": 18,
     "metadata": {},
     "output_type": "execute_result"
    }
   ],
   "source": [
    "list(all_betas.columns)"
   ],
   "metadata": {
    "collapsed": false,
    "pycharm": {
     "name": "#%%\n"
    }
   }
  },
  {
   "cell_type": "code",
   "execution_count": null,
   "outputs": [],
   "source": [
    "\n"
   ],
   "metadata": {
    "collapsed": false,
    "pycharm": {
     "name": "#%%\n"
    }
   }
  }
 ],
 "metadata": {
  "kernelspec": {
   "display_name": "Python 3",
   "language": "python",
   "name": "python3"
  },
  "language_info": {
   "codemirror_mode": {
    "name": "ipython",
    "version": 2
   },
   "file_extension": ".py",
   "mimetype": "text/x-python",
   "name": "python",
   "nbconvert_exporter": "python",
   "pygments_lexer": "ipython2",
   "version": "2.7.6"
  }
 },
 "nbformat": 4,
 "nbformat_minor": 0
}