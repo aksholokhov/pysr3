{
 "cells": [
  {
   "cell_type": "markdown",
   "metadata": {
    "collapsed": true,
    "pycharm": {
     "name": "#%% md\n"
    }
   },
   "source": [
    "# Community Guidelines\n",
    "\n",
    "We encourage the broader community to contribute to `pysr3`! Please submit a pull request on GitHub\n",
    "if you fixed a bug or developed an extension.\n",
    "\n",
    "As a  community, we follow the list of rules below:\n",
    "\n",
    "1. We adhere to [sklearn's interfaces and standards](https://scikit-learn.org/stable/developers/develop.html)\n",
    "   * Please use `sklearn.utils.estimator_checks.check_estimator` to ensure that your contributions don't break this compatibility.\n",
    "2. For comments and docstrings, we use [numpy dostring standards](https://numpydoc.readthedocs.io/en/latest/format.html#docstring-standard)\n",
    "3. For version numbers, we use [Semantic Versioning](https://semver.org/).\n",
    "4. We pledge to [Contributor Covenant](https://www.contributor-covenant.org/version/2/0/code_of_conduct/) code of conduct.\n",
    "\n",
    "## Developing `pysr3`\n",
    "`pysr3` does not require any special hardware and can be developed on your personal computer.\n",
    "To start, install `pysr3` in the developer mode:\n",
    "\n",
    "```bash\n",
    "git clone https://github.com/aksholokhov/pysr3.git\n",
    "cd pysr3\n",
    "python setup.py develop\n",
    "```\n",
    "\n",
    "## Testing `pysr3`\n",
    "To test the installation, invoke the tests with `pytest`:\n",
    "\n",
    "```bash\n",
    "pytest .\n",
    "```"
   ]
  }
 ],
 "metadata": {
  "kernelspec": {
   "display_name": "Python 3",
   "language": "python",
   "name": "python3"
  },
  "language_info": {
   "codemirror_mode": {
    "name": "ipython",
    "version": 2
   },
   "file_extension": ".py",
   "mimetype": "text/x-python",
   "name": "python",
   "nbconvert_exporter": "python",
   "pygments_lexer": "ipython2",
   "version": "2.7.6"
  }
 },
 "nbformat": 4,
 "nbformat_minor": 0
}